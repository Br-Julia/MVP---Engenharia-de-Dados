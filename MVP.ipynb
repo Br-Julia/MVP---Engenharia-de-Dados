{
    "metadata": {
        "kernelspec": {
            "name": "SQL",
            "display_name": "SQL",
            "language": "sql"
        },
        "language_info": {
            "name": "sql",
            "version": ""
        }
    },
    "nbformat_minor": 2,
    "nbformat": 4,
    "cells": [
        {
            "cell_type": "markdown",
            "source": [
                "## <span style=\"color: var(--vscode-foreground);\">Tabela com as 33 cidades com os maiores IDHM (acima de 0.80)</span>"
            ],
            "metadata": {
                "language": "sql",
                "azdata_cell_guid": "03a473dc-517f-4e2a-9874-15fdb7e0772b"
            },
            "attachments": {}
        },
        {
            "cell_type": "code",
            "source": [
                "select [CITY]\r\n",
                "      , [STATE]\r\n",
                "      , [IDHM]\r\n",
                "      , [IBGE_RES_POP]\r\n",
                "      , [MUN_EXPENDIT]\r\n",
                "      , (MUN_EXPENDIT / IBGE_RES_POP) AS \"TOTAL max\"\r\n",
                "FROM [dbo].[Tabela_MVP_04]\r\n",
                "WHERE [IDHM] > 0.80\r\n",
                "and MUN_EXPENDIT >0\r\n",
                "oRDER BY \"IDHM\" desc"
            ],
            "metadata": {
                "azdata_cell_guid": "a41ee287-f3b6-49ed-87dc-63e2f4e9a2a0",
                "language": "sql",
                "tags": []
            },
            "outputs": [
                {
                    "output_type": "display_data",
                    "data": {
                        "text/html": "(33 rows affected)"
                    },
                    "metadata": {}
                },
                {
                    "output_type": "display_data",
                    "data": {
                        "text/html": "Total execution time: 00:00:00.379"
                    },
                    "metadata": {}
                },
                {
                    "output_type": "execute_result",
                    "execution_count": 2,
                    "data": {
                        "application/vnd.dataresource+json": {
                            "schema": {
                                "fields": [
                                    {
                                        "name": "CITY"
                                    },
                                    {
                                        "name": "STATE"
                                    },
                                    {
                                        "name": "IDHM"
                                    },
                                    {
                                        "name": "IBGE_RES_POP"
                                    },
                                    {
                                        "name": "MUN_EXPENDIT"
                                    },
                                    {
                                        "name": "TOTAL max"
                                    }
                                ]
                            },
                            "data": [
                                {
                                    "CITY": "São Caetano Do Sul",
                                    "STATE": "SP",
                                    "IDHM": "0,862",
                                    "IBGE_RES_POP": "149263",
                                    "MUN_EXPENDIT": "1178645567",
                                    "TOTAL max": "7896"
                                },
                                {
                                    "CITY": "Águas De São Pedro",
                                    "STATE": "SP",
                                    "IDHM": "0,854",
                                    "IBGE_RES_POP": "2707",
                                    "MUN_EXPENDIT": "21934920",
                                    "TOTAL max": "8103"
                                },
                                {
                                    "CITY": "Vitória",
                                    "STATE": "ES",
                                    "IDHM": "0,845",
                                    "IBGE_RES_POP": "327801",
                                    "MUN_EXPENDIT": "1273296503",
                                    "TOTAL max": "3884"
                                },
                                {
                                    "CITY": "Balneário Camboriú",
                                    "STATE": "SC",
                                    "IDHM": "0,845",
                                    "IBGE_RES_POP": "108089",
                                    "MUN_EXPENDIT": "581366500",
                                    "TOTAL max": "5378"
                                },
                                {
                                    "CITY": "Santos",
                                    "STATE": "SP",
                                    "IDHM": "0,84",
                                    "IBGE_RES_POP": "419400",
                                    "MUN_EXPENDIT": "2161093305",
                                    "TOTAL max": "5152"
                                },
                                {
                                    "CITY": "Niterói",
                                    "STATE": "RJ",
                                    "IDHM": "0,837",
                                    "IBGE_RES_POP": "487562",
                                    "MUN_EXPENDIT": "2102739559",
                                    "TOTAL max": "4312"
                                },
                                {
                                    "CITY": "Joaçaba",
                                    "STATE": "SC",
                                    "IDHM": "0,827",
                                    "IBGE_RES_POP": "27020",
                                    "MUN_EXPENDIT": "108319357",
                                    "TOTAL max": "4008"
                                },
                                {
                                    "CITY": "Curitiba",
                                    "STATE": "PR",
                                    "IDHM": "0,823",
                                    "IBGE_RES_POP": "1751907",
                                    "MUN_EXPENDIT": "6269694781",
                                    "TOTAL max": "3578"
                                },
                                {
                                    "CITY": "Jundiaí",
                                    "STATE": "SP",
                                    "IDHM": "0,822",
                                    "IBGE_RES_POP": "370126",
                                    "MUN_EXPENDIT": "1630920489",
                                    "TOTAL max": "4406"
                                },
                                {
                                    "CITY": "Vinhedo",
                                    "STATE": "SP",
                                    "IDHM": "0,817",
                                    "IBGE_RES_POP": "63611",
                                    "MUN_EXPENDIT": "379854817",
                                    "TOTAL max": "5971"
                                },
                                {
                                    "CITY": "Araraquara",
                                    "STATE": "SP",
                                    "IDHM": "0,815",
                                    "IBGE_RES_POP": "208662",
                                    "MUN_EXPENDIT": "639269199",
                                    "TOTAL max": "3063"
                                },
                                {
                                    "CITY": "Santo André",
                                    "STATE": "SP",
                                    "IDHM": "0,815",
                                    "IBGE_RES_POP": "676407",
                                    "MUN_EXPENDIT": "1986553463",
                                    "TOTAL max": "2936"
                                },
                                {
                                    "CITY": "Santana De Parnaíba",
                                    "STATE": "SP",
                                    "IDHM": "0,814",
                                    "IBGE_RES_POP": "108813",
                                    "MUN_EXPENDIT": "614167631",
                                    "TOTAL max": "5644"
                                },
                                {
                                    "CITY": "Nova Lima",
                                    "STATE": "MG",
                                    "IDHM": "0,813",
                                    "IBGE_RES_POP": "80998",
                                    "MUN_EXPENDIT": "449232783",
                                    "TOTAL max": "5546"
                                },
                                {
                                    "CITY": "Ilha Solteira",
                                    "STATE": "SP",
                                    "IDHM": "0,812",
                                    "IBGE_RES_POP": "25064",
                                    "MUN_EXPENDIT": "98224256",
                                    "TOTAL max": "3918"
                                },
                                {
                                    "CITY": "Americana",
                                    "STATE": "SP",
                                    "IDHM": "0,811",
                                    "IBGE_RES_POP": "210638",
                                    "MUN_EXPENDIT": "541958027",
                                    "TOTAL max": "2572"
                                },
                                {
                                    "CITY": "Belo Horizonte",
                                    "STATE": "MG",
                                    "IDHM": "0,81",
                                    "IBGE_RES_POP": "2375151",
                                    "MUN_EXPENDIT": "7899696615",
                                    "TOTAL max": "3325"
                                },
                                {
                                    "CITY": "São José",
                                    "STATE": "SC",
                                    "IDHM": "0,809",
                                    "IBGE_RES_POP": "209804",
                                    "MUN_EXPENDIT": "456514062",
                                    "TOTAL max": "2175"
                                },
                                {
                                    "CITY": "Joinville",
                                    "STATE": "SC",
                                    "IDHM": "0,809",
                                    "IBGE_RES_POP": "515288",
                                    "MUN_EXPENDIT": "1204303174",
                                    "TOTAL max": "2337"
                                },
                                {
                                    "CITY": "Maringá",
                                    "STATE": "PR",
                                    "IDHM": "0,808",
                                    "IBGE_RES_POP": "357077",
                                    "MUN_EXPENDIT": "1077439047",
                                    "TOTAL max": "3017"
                                },
                                {
                                    "CITY": "São José Dos Campos",
                                    "STATE": "SP",
                                    "IDHM": "0,807",
                                    "IBGE_RES_POP": "629921",
                                    "MUN_EXPENDIT": "2372091500",
                                    "TOTAL max": "3765"
                                },
                                {
                                    "CITY": "Presidente Prudente",
                                    "STATE": "SP",
                                    "IDHM": "0,806",
                                    "IBGE_RES_POP": "207610",
                                    "MUN_EXPENDIT": "606885706",
                                    "TOTAL max": "2923"
                                },
                                {
                                    "CITY": "Blumenau",
                                    "STATE": "SC",
                                    "IDHM": "0,806",
                                    "IBGE_RES_POP": "309011",
                                    "MUN_EXPENDIT": "1187983239",
                                    "TOTAL max": "3844"
                                },
                                {
                                    "CITY": "Rio Fortuna",
                                    "STATE": "SC",
                                    "IDHM": "0,806",
                                    "IBGE_RES_POP": "4446",
                                    "MUN_EXPENDIT": "16891707",
                                    "TOTAL max": "3799"
                                },
                                {
                                    "CITY": "Porto Alegre",
                                    "STATE": "RS",
                                    "IDHM": "0,805",
                                    "IBGE_RES_POP": "1409351",
                                    "MUN_EXPENDIT": "5358322064",
                                    "TOTAL max": "3801"
                                },
                                {
                                    "CITY": "São Paulo",
                                    "STATE": "SP",
                                    "IDHM": "0,805",
                                    "IBGE_RES_POP": "11253503",
                                    "MUN_EXPENDIT": "45772497944",
                                    "TOTAL max": "4067"
                                },
                                {
                                    "CITY": "São Bernardo Do Campo",
                                    "STATE": "SP",
                                    "IDHM": "0,805",
                                    "IBGE_RES_POP": "765463",
                                    "MUN_EXPENDIT": "3292688350",
                                    "TOTAL max": "4301"
                                },
                                {
                                    "CITY": "São Carlos",
                                    "STATE": "SP",
                                    "IDHM": "0,805",
                                    "IBGE_RES_POP": "221950",
                                    "MUN_EXPENDIT": "593529862",
                                    "TOTAL max": "2674"
                                },
                                {
                                    "CITY": "Campinas",
                                    "STATE": "SP",
                                    "IDHM": "0,805",
                                    "IBGE_RES_POP": "1080113",
                                    "MUN_EXPENDIT": "3987168064",
                                    "TOTAL max": "3691"
                                },
                                {
                                    "CITY": "Jaraguá Do Sul",
                                    "STATE": "SC",
                                    "IDHM": "0,803",
                                    "IBGE_RES_POP": "143123",
                                    "MUN_EXPENDIT": "523469896",
                                    "TOTAL max": "3657"
                                },
                                {
                                    "CITY": "Rio Do Sul",
                                    "STATE": "SC",
                                    "IDHM": "0,802",
                                    "IBGE_RES_POP": "61198",
                                    "MUN_EXPENDIT": "208038249",
                                    "TOTAL max": "3399"
                                },
                                {
                                    "CITY": "São Miguel Do Oeste",
                                    "STATE": "SC",
                                    "IDHM": "0,801",
                                    "IBGE_RES_POP": "36306",
                                    "MUN_EXPENDIT": "84558077",
                                    "TOTAL max": "2329"
                                },
                                {
                                    "CITY": "Bauru",
                                    "STATE": "SP",
                                    "IDHM": "0,801",
                                    "IBGE_RES_POP": "343937",
                                    "MUN_EXPENDIT": "884996534",
                                    "TOTAL max": "2573"
                                }
                            ]
                        },
                        "text/html": "<table><tr><th>CITY</th><th>STATE</th><th>IDHM</th><th>IBGE_RES_POP</th><th>MUN_EXPENDIT</th><th>TOTAL max</th></tr><tr><td>São Caetano Do Sul</td><td>SP</td><td>0,862</td><td>149263</td><td>1178645567</td><td>7896</td></tr><tr><td>Águas De São Pedro</td><td>SP</td><td>0,854</td><td>2707</td><td>21934920</td><td>8103</td></tr><tr><td>Vitória</td><td>ES</td><td>0,845</td><td>327801</td><td>1273296503</td><td>3884</td></tr><tr><td>Balneário Camboriú</td><td>SC</td><td>0,845</td><td>108089</td><td>581366500</td><td>5378</td></tr><tr><td>Santos</td><td>SP</td><td>0,84</td><td>419400</td><td>2161093305</td><td>5152</td></tr><tr><td>Niterói</td><td>RJ</td><td>0,837</td><td>487562</td><td>2102739559</td><td>4312</td></tr><tr><td>Joaçaba</td><td>SC</td><td>0,827</td><td>27020</td><td>108319357</td><td>4008</td></tr><tr><td>Curitiba</td><td>PR</td><td>0,823</td><td>1751907</td><td>6269694781</td><td>3578</td></tr><tr><td>Jundiaí</td><td>SP</td><td>0,822</td><td>370126</td><td>1630920489</td><td>4406</td></tr><tr><td>Vinhedo</td><td>SP</td><td>0,817</td><td>63611</td><td>379854817</td><td>5971</td></tr><tr><td>Araraquara</td><td>SP</td><td>0,815</td><td>208662</td><td>639269199</td><td>3063</td></tr><tr><td>Santo André</td><td>SP</td><td>0,815</td><td>676407</td><td>1986553463</td><td>2936</td></tr><tr><td>Santana De Parnaíba</td><td>SP</td><td>0,814</td><td>108813</td><td>614167631</td><td>5644</td></tr><tr><td>Nova Lima</td><td>MG</td><td>0,813</td><td>80998</td><td>449232783</td><td>5546</td></tr><tr><td>Ilha Solteira</td><td>SP</td><td>0,812</td><td>25064</td><td>98224256</td><td>3918</td></tr><tr><td>Americana</td><td>SP</td><td>0,811</td><td>210638</td><td>541958027</td><td>2572</td></tr><tr><td>Belo Horizonte</td><td>MG</td><td>0,81</td><td>2375151</td><td>7899696615</td><td>3325</td></tr><tr><td>São José</td><td>SC</td><td>0,809</td><td>209804</td><td>456514062</td><td>2175</td></tr><tr><td>Joinville</td><td>SC</td><td>0,809</td><td>515288</td><td>1204303174</td><td>2337</td></tr><tr><td>Maringá</td><td>PR</td><td>0,808</td><td>357077</td><td>1077439047</td><td>3017</td></tr><tr><td>São José Dos Campos</td><td>SP</td><td>0,807</td><td>629921</td><td>2372091500</td><td>3765</td></tr><tr><td>Presidente Prudente</td><td>SP</td><td>0,806</td><td>207610</td><td>606885706</td><td>2923</td></tr><tr><td>Blumenau</td><td>SC</td><td>0,806</td><td>309011</td><td>1187983239</td><td>3844</td></tr><tr><td>Rio Fortuna</td><td>SC</td><td>0,806</td><td>4446</td><td>16891707</td><td>3799</td></tr><tr><td>Porto Alegre</td><td>RS</td><td>0,805</td><td>1409351</td><td>5358322064</td><td>3801</td></tr><tr><td>São Paulo</td><td>SP</td><td>0,805</td><td>11253503</td><td>45772497944</td><td>4067</td></tr><tr><td>São Bernardo Do Campo</td><td>SP</td><td>0,805</td><td>765463</td><td>3292688350</td><td>4301</td></tr><tr><td>São Carlos</td><td>SP</td><td>0,805</td><td>221950</td><td>593529862</td><td>2674</td></tr><tr><td>Campinas</td><td>SP</td><td>0,805</td><td>1080113</td><td>3987168064</td><td>3691</td></tr><tr><td>Jaraguá Do Sul</td><td>SC</td><td>0,803</td><td>143123</td><td>523469896</td><td>3657</td></tr><tr><td>Rio Do Sul</td><td>SC</td><td>0,802</td><td>61198</td><td>208038249</td><td>3399</td></tr><tr><td>São Miguel Do Oeste</td><td>SC</td><td>0,801</td><td>36306</td><td>84558077</td><td>2329</td></tr><tr><td>Bauru</td><td>SP</td><td>0,801</td><td>343937</td><td>884996534</td><td>2573</td></tr></table>"
                    },
                    "metadata": {}
                }
            ],
            "execution_count": 2
        },
        {
            "cell_type": "markdown",
            "source": [
                "## Gastos Municipais por pessoa nas cidades com os maiores IDHM"
            ],
            "metadata": {
                "language": "sql",
                "azdata_cell_guid": "cee795e5-1c5f-49ad-8b4e-cf2157a72916"
            },
            "attachments": {}
        },
        {
            "cell_type": "code",
            "source": [
                "select [CITY]\r\n",
                "      , (MUN_EXPENDIT / IBGE_RES_POP) AS \"TOTAL max\"\r\n",
                "FROM [dbo].[Tabela_MVP_04]\r\n",
                "WHERE [IDHM] > 0.80\r\n",
                "AND MUN_EXPENDIT>0\r\n",
                "oRDER BY \"IDHM\" desc"
            ],
            "metadata": {
                "language": "sql",
                "azdata_cell_guid": "22ca5088-c3ae-4d47-a1cd-c183bbddb131",
                "tags": []
            },
            "outputs": [
                {
                    "output_type": "display_data",
                    "data": {
                        "text/html": "(33 rows affected)"
                    },
                    "metadata": {}
                },
                {
                    "output_type": "display_data",
                    "data": {
                        "text/html": "Total execution time: 00:00:00.146"
                    },
                    "metadata": {}
                },
                {
                    "output_type": "execute_result",
                    "execution_count": 3,
                    "data": {
                        "application/vnd.dataresource+json": {
                            "schema": {
                                "fields": [
                                    {
                                        "name": "CITY"
                                    },
                                    {
                                        "name": "TOTAL max"
                                    }
                                ]
                            },
                            "data": [
                                {
                                    "CITY": "São Caetano Do Sul",
                                    "TOTAL max": "7896"
                                },
                                {
                                    "CITY": "Águas De São Pedro",
                                    "TOTAL max": "8103"
                                },
                                {
                                    "CITY": "Vitória",
                                    "TOTAL max": "3884"
                                },
                                {
                                    "CITY": "Balneário Camboriú",
                                    "TOTAL max": "5378"
                                },
                                {
                                    "CITY": "Santos",
                                    "TOTAL max": "5152"
                                },
                                {
                                    "CITY": "Niterói",
                                    "TOTAL max": "4312"
                                },
                                {
                                    "CITY": "Joaçaba",
                                    "TOTAL max": "4008"
                                },
                                {
                                    "CITY": "Curitiba",
                                    "TOTAL max": "3578"
                                },
                                {
                                    "CITY": "Jundiaí",
                                    "TOTAL max": "4406"
                                },
                                {
                                    "CITY": "Vinhedo",
                                    "TOTAL max": "5971"
                                },
                                {
                                    "CITY": "Araraquara",
                                    "TOTAL max": "3063"
                                },
                                {
                                    "CITY": "Santo André",
                                    "TOTAL max": "2936"
                                },
                                {
                                    "CITY": "Santana De Parnaíba",
                                    "TOTAL max": "5644"
                                },
                                {
                                    "CITY": "Nova Lima",
                                    "TOTAL max": "5546"
                                },
                                {
                                    "CITY": "Ilha Solteira",
                                    "TOTAL max": "3918"
                                },
                                {
                                    "CITY": "Americana",
                                    "TOTAL max": "2572"
                                },
                                {
                                    "CITY": "Belo Horizonte",
                                    "TOTAL max": "3325"
                                },
                                {
                                    "CITY": "São José",
                                    "TOTAL max": "2175"
                                },
                                {
                                    "CITY": "Joinville",
                                    "TOTAL max": "2337"
                                },
                                {
                                    "CITY": "Maringá",
                                    "TOTAL max": "3017"
                                },
                                {
                                    "CITY": "São José Dos Campos",
                                    "TOTAL max": "3765"
                                },
                                {
                                    "CITY": "Presidente Prudente",
                                    "TOTAL max": "2923"
                                },
                                {
                                    "CITY": "Blumenau",
                                    "TOTAL max": "3844"
                                },
                                {
                                    "CITY": "Rio Fortuna",
                                    "TOTAL max": "3799"
                                },
                                {
                                    "CITY": "Porto Alegre",
                                    "TOTAL max": "3801"
                                },
                                {
                                    "CITY": "São Paulo",
                                    "TOTAL max": "4067"
                                },
                                {
                                    "CITY": "São Bernardo Do Campo",
                                    "TOTAL max": "4301"
                                },
                                {
                                    "CITY": "São Carlos",
                                    "TOTAL max": "2674"
                                },
                                {
                                    "CITY": "Campinas",
                                    "TOTAL max": "3691"
                                },
                                {
                                    "CITY": "Jaraguá Do Sul",
                                    "TOTAL max": "3657"
                                },
                                {
                                    "CITY": "Rio Do Sul",
                                    "TOTAL max": "3399"
                                },
                                {
                                    "CITY": "São Miguel Do Oeste",
                                    "TOTAL max": "2329"
                                },
                                {
                                    "CITY": "Bauru",
                                    "TOTAL max": "2573"
                                }
                            ]
                        },
                        "text/html": "<table><tr><th>CITY</th><th>TOTAL max</th></tr><tr><td>São Caetano Do Sul</td><td>7896</td></tr><tr><td>Águas De São Pedro</td><td>8103</td></tr><tr><td>Vitória</td><td>3884</td></tr><tr><td>Balneário Camboriú</td><td>5378</td></tr><tr><td>Santos</td><td>5152</td></tr><tr><td>Niterói</td><td>4312</td></tr><tr><td>Joaçaba</td><td>4008</td></tr><tr><td>Curitiba</td><td>3578</td></tr><tr><td>Jundiaí</td><td>4406</td></tr><tr><td>Vinhedo</td><td>5971</td></tr><tr><td>Araraquara</td><td>3063</td></tr><tr><td>Santo André</td><td>2936</td></tr><tr><td>Santana De Parnaíba</td><td>5644</td></tr><tr><td>Nova Lima</td><td>5546</td></tr><tr><td>Ilha Solteira</td><td>3918</td></tr><tr><td>Americana</td><td>2572</td></tr><tr><td>Belo Horizonte</td><td>3325</td></tr><tr><td>São José</td><td>2175</td></tr><tr><td>Joinville</td><td>2337</td></tr><tr><td>Maringá</td><td>3017</td></tr><tr><td>São José Dos Campos</td><td>3765</td></tr><tr><td>Presidente Prudente</td><td>2923</td></tr><tr><td>Blumenau</td><td>3844</td></tr><tr><td>Rio Fortuna</td><td>3799</td></tr><tr><td>Porto Alegre</td><td>3801</td></tr><tr><td>São Paulo</td><td>4067</td></tr><tr><td>São Bernardo Do Campo</td><td>4301</td></tr><tr><td>São Carlos</td><td>2674</td></tr><tr><td>Campinas</td><td>3691</td></tr><tr><td>Jaraguá Do Sul</td><td>3657</td></tr><tr><td>Rio Do Sul</td><td>3399</td></tr><tr><td>São Miguel Do Oeste</td><td>2329</td></tr><tr><td>Bauru</td><td>2573</td></tr></table>"
                    },
                    "metadata": {
                        "azdata_chartOptions": {
                            "type": "bar",
                            "dataDirection": "vertical",
                            "columnsAsLabels": true,
                            "labelFirstColumn": true,
                            "legendPosition": "top"
                        }
                    }
                }
            ],
            "execution_count": 3
        },
        {
            "cell_type": "markdown",
            "source": [
                "## Média do Gasto MUnicipal por pessoa das Cidades com os maiores IDHM"
            ],
            "metadata": {
                "language": "sql",
                "azdata_cell_guid": "996f0d6c-8b14-48b3-b605-da73da8aa690"
            },
            "attachments": {}
        },
        {
            "cell_type": "code",
            "source": [
                "SELECT AVG(MUN_EXPENDIT / IBGE_RES_POP) AS AVG_TOTAL_max\r\n",
                "FROM [dbo].[Tabela_MVP_04]\r\n",
                "WHERE [IDHM] > 0.80\r\n",
                "AND MUN_EXPENDIT>0"
            ],
            "metadata": {
                "azdata_cell_guid": "d6c4ac31-eee0-4a9d-9457-213a23464081",
                "language": "sql",
                "tags": []
            },
            "outputs": [
                {
                    "output_type": "display_data",
                    "data": {
                        "text/html": "(1 row affected)"
                    },
                    "metadata": {}
                },
                {
                    "output_type": "display_data",
                    "data": {
                        "text/html": "Total execution time: 00:00:00.143"
                    },
                    "metadata": {}
                },
                {
                    "output_type": "execute_result",
                    "execution_count": 4,
                    "data": {
                        "application/vnd.dataresource+json": {
                            "schema": {
                                "fields": [
                                    {
                                        "name": "AVG_TOTAL_max"
                                    }
                                ]
                            },
                            "data": [
                                {
                                    "AVG_TOTAL_max": "4001"
                                }
                            ]
                        },
                        "text/html": "<table><tr><th>AVG_TOTAL_max</th></tr><tr><td>4001</td></tr></table>"
                    },
                    "metadata": {}
                }
            ],
            "execution_count": 4
        },
        {
            "cell_type": "markdown",
            "source": [
                "## Gastos municipais por cidade das cidades com os menores IDHM do país"
            ],
            "metadata": {
                "language": "sql",
                "azdata_cell_guid": "d27b2137-19c4-41e0-9fe4-71b041dc49a9"
            },
            "attachments": {}
        },
        {
            "cell_type": "code",
            "source": [
                "select [CITY]\r\n",
                "      ,(MUN_EXPENDIT / (IBGE_RES_POP)) AS \"TOTAL_min\"\r\n",
                "FROM [dbo].[Tabela_MVP_04]\r\n",
                "WHERE [IDHM] < 0.50\r\n",
                "and IBGE_RES_POP>0 \r\n",
                "AND MUN_EXPENDIT>0\r\n",
                "oRDER BY \"IDHM\" "
            ],
            "metadata": {
                "language": "sql",
                "azdata_cell_guid": "2073be95-7499-4af0-9ce0-183ad16f6f7b"
            },
            "outputs": [
                {
                    "output_type": "display_data",
                    "data": {
                        "text/html": "(13 rows affected)"
                    },
                    "metadata": {}
                },
                {
                    "output_type": "display_data",
                    "data": {
                        "text/html": "Total execution time: 00:00:00.156"
                    },
                    "metadata": {}
                },
                {
                    "output_type": "execute_result",
                    "execution_count": 10,
                    "data": {
                        "application/vnd.dataresource+json": {
                            "schema": {
                                "fields": [
                                    {
                                        "name": "CITY"
                                    },
                                    {
                                        "name": "TOTAL_min"
                                    }
                                ]
                            },
                            "data": [
                                {
                                    "CITY": "Fernando Falcão",
                                    "TOTAL_min": "2284"
                                },
                                {
                                    "CITY": "Jordão",
                                    "TOTAL_min": "3303"
                                },
                                {
                                    "CITY": "Itamarati",
                                    "TOTAL_min": "2801"
                                },
                                {
                                    "CITY": "Manari",
                                    "TOTAL_min": "2221"
                                },
                                {
                                    "CITY": "Betânia Do Piauí",
                                    "TOTAL_min": "2677"
                                },
                                {
                                    "CITY": "Santo Antônio Do Içá",
                                    "TOTAL_min": "1846"
                                },
                                {
                                    "CITY": "Jenipapo Dos Vieiras",
                                    "TOTAL_min": "1894"
                                },
                                {
                                    "CITY": "Satubinha",
                                    "TOTAL_min": "2008"
                                },
                                {
                                    "CITY": "Olivença",
                                    "TOTAL_min": "2410"
                                },
                                {
                                    "CITY": "Pauini",
                                    "TOTAL_min": "1738"
                                },
                                {
                                    "CITY": "Cocal",
                                    "TOTAL_min": "1948"
                                },
                                {
                                    "CITY": "Cocal Dos Alves",
                                    "TOTAL_min": "2327"
                                },
                                {
                                    "CITY": "Assunção Do Piauí",
                                    "TOTAL_min": "2442"
                                }
                            ]
                        },
                        "text/html": "<table><tr><th>CITY</th><th>TOTAL_min</th></tr><tr><td>Fernando Falcão</td><td>2284</td></tr><tr><td>Jordão</td><td>3303</td></tr><tr><td>Itamarati</td><td>2801</td></tr><tr><td>Manari</td><td>2221</td></tr><tr><td>Betânia Do Piauí</td><td>2677</td></tr><tr><td>Santo Antônio Do Içá</td><td>1846</td></tr><tr><td>Jenipapo Dos Vieiras</td><td>1894</td></tr><tr><td>Satubinha</td><td>2008</td></tr><tr><td>Olivença</td><td>2410</td></tr><tr><td>Pauini</td><td>1738</td></tr><tr><td>Cocal</td><td>1948</td></tr><tr><td>Cocal Dos Alves</td><td>2327</td></tr><tr><td>Assunção Do Piauí</td><td>2442</td></tr></table>"
                    },
                    "metadata": {
                        "azdata_chartOptions": {
                            "type": "bar",
                            "dataDirection": "vertical",
                            "columnsAsLabels": true,
                            "labelFirstColumn": true,
                            "legendPosition": "top"
                        }
                    }
                }
            ],
            "execution_count": 10
        },
        {
            "cell_type": "markdown",
            "source": [
                "## Média dos Gastos Municipais por pessoa das cidades com os menores IDHM"
            ],
            "metadata": {
                "language": "sql",
                "azdata_cell_guid": "12f8d75e-aabf-4b0f-8109-0109a69a1214"
            },
            "attachments": {}
        },
        {
            "cell_type": "code",
            "source": [
                "SELECT AVG(MUN_EXPENDIT / IBGE_RES_POP) AS AVG_TOTAL_MIN\r\n",
                "FROM [dbo].[Tabela_MVP_04]\r\n",
                "WHERE [IDHM] < 0.51\r\n",
                "AND MUN_EXPENDIT>0 AND IBGE_POP >0"
            ],
            "metadata": {
                "language": "sql",
                "azdata_cell_guid": "67a6ed7b-5a85-4d85-a173-2f925cf00348"
            },
            "outputs": [
                {
                    "output_type": "display_data",
                    "data": {
                        "text/html": "(1 row affected)"
                    },
                    "metadata": {}
                },
                {
                    "output_type": "display_data",
                    "data": {
                        "text/html": "Total execution time: 00:00:00.131"
                    },
                    "metadata": {}
                },
                {
                    "output_type": "execute_result",
                    "execution_count": 8,
                    "data": {
                        "application/vnd.dataresource+json": {
                            "schema": {
                                "fields": [
                                    {
                                        "name": "AVG_TOTAL_MIN"
                                    }
                                ]
                            },
                            "data": [
                                {
                                    "AVG_TOTAL_MIN": "2538"
                                }
                            ]
                        },
                        "text/html": "<table><tr><th>AVG_TOTAL_MIN</th></tr><tr><td>2538</td></tr></table>"
                    },
                    "metadata": {}
                }
            ],
            "execution_count": 8
        },
        {
            "cell_type": "markdown",
            "source": [
                "## 26 Cidades com os menores IDHM do país (abaixo de 0.50)"
            ],
            "metadata": {
                "language": "sql",
                "azdata_cell_guid": "e253f409-4fe2-4847-9b1c-ad745a99dee7"
            },
            "attachments": {}
        },
        {
            "cell_type": "code",
            "source": [
                "select [CITY]\r\n",
                "    , [STATE]\r\n",
                "      , [IDHM]\r\n",
                "      , [IBGE_RES_POP]\r\n",
                "      , [MUN_EXPENDIT]\r\n",
                "      ,(MUN_EXPENDIT / (IBGE_RES_POP)) AS \"TOTAL_min\"\r\n",
                "FROM [dbo].[Tabela_MVP_04]\r\n",
                "WHERE [IDHM] < 0.50\r\n",
                "AND IBGE_POP >0 and MUN_EXPENDIT >0\r\n",
                "order by [IDHM] DESC"
            ],
            "metadata": {
                "language": "sql",
                "azdata_cell_guid": "3c6baa69-5de3-42ba-99d3-e4df5c4025c9"
            },
            "outputs": [
                {
                    "output_type": "display_data",
                    "data": {
                        "text/html": "(13 rows affected)"
                    },
                    "metadata": {}
                },
                {
                    "output_type": "display_data",
                    "data": {
                        "text/html": "Total execution time: 00:00:00.144"
                    },
                    "metadata": {}
                },
                {
                    "output_type": "execute_result",
                    "execution_count": 9,
                    "data": {
                        "application/vnd.dataresource+json": {
                            "schema": {
                                "fields": [
                                    {
                                        "name": "CITY"
                                    },
                                    {
                                        "name": "STATE"
                                    },
                                    {
                                        "name": "IDHM"
                                    },
                                    {
                                        "name": "IBGE_RES_POP"
                                    },
                                    {
                                        "name": "MUN_EXPENDIT"
                                    },
                                    {
                                        "name": "TOTAL_min"
                                    }
                                ]
                            },
                            "data": [
                                {
                                    "CITY": "Assunção Do Piauí",
                                    "STATE": "PI",
                                    "IDHM": "0,499",
                                    "IBGE_RES_POP": "7503",
                                    "MUN_EXPENDIT": "18325692",
                                    "TOTAL_min": "2442"
                                },
                                {
                                    "CITY": "Cocal Dos Alves",
                                    "STATE": "PI",
                                    "IDHM": "0,498",
                                    "IBGE_RES_POP": "5572",
                                    "MUN_EXPENDIT": "12966428",
                                    "TOTAL_min": "2327"
                                },
                                {
                                    "CITY": "Cocal",
                                    "STATE": "PI",
                                    "IDHM": "0,497",
                                    "IBGE_RES_POP": "26036",
                                    "MUN_EXPENDIT": "50733134",
                                    "TOTAL_min": "1948"
                                },
                                {
                                    "CITY": "Pauini",
                                    "STATE": "AM",
                                    "IDHM": "0,496",
                                    "IBGE_RES_POP": "18166",
                                    "MUN_EXPENDIT": "31589139",
                                    "TOTAL_min": "1738"
                                },
                                {
                                    "CITY": "Satubinha",
                                    "STATE": "MA",
                                    "IDHM": "0,493",
                                    "IBGE_RES_POP": "11990",
                                    "MUN_EXPENDIT": "24082803",
                                    "TOTAL_min": "2008"
                                },
                                {
                                    "CITY": "Olivença",
                                    "STATE": "AL",
                                    "IDHM": "0,493",
                                    "IBGE_RES_POP": "11047",
                                    "MUN_EXPENDIT": "26624245",
                                    "TOTAL_min": "2410"
                                },
                                {
                                    "CITY": "Santo Antônio Do Içá",
                                    "STATE": "AM",
                                    "IDHM": "0,49",
                                    "IBGE_RES_POP": "24481",
                                    "MUN_EXPENDIT": "45201069",
                                    "TOTAL_min": "1846"
                                },
                                {
                                    "CITY": "Jenipapo Dos Vieiras",
                                    "STATE": "MA",
                                    "IDHM": "0,49",
                                    "IBGE_RES_POP": "15440",
                                    "MUN_EXPENDIT": "29244645",
                                    "TOTAL_min": "1894"
                                },
                                {
                                    "CITY": "Betânia Do Piauí",
                                    "STATE": "PI",
                                    "IDHM": "0,489",
                                    "IBGE_RES_POP": "6015",
                                    "MUN_EXPENDIT": "16103016",
                                    "TOTAL_min": "2677"
                                },
                                {
                                    "CITY": "Manari",
                                    "STATE": "PE",
                                    "IDHM": "0,487",
                                    "IBGE_RES_POP": "18083",
                                    "MUN_EXPENDIT": "40176640",
                                    "TOTAL_min": "2221"
                                },
                                {
                                    "CITY": "Itamarati",
                                    "STATE": "AM",
                                    "IDHM": "0,477",
                                    "IBGE_RES_POP": "8038",
                                    "MUN_EXPENDIT": "22521795",
                                    "TOTAL_min": "2801"
                                },
                                {
                                    "CITY": "Jordão",
                                    "STATE": "AC",
                                    "IDHM": "0,469",
                                    "IBGE_RES_POP": "6577",
                                    "MUN_EXPENDIT": "21724701",
                                    "TOTAL_min": "3303"
                                },
                                {
                                    "CITY": "Fernando Falcão",
                                    "STATE": "MA",
                                    "IDHM": "0,443",
                                    "IBGE_RES_POP": "9241",
                                    "MUN_EXPENDIT": "21114565",
                                    "TOTAL_min": "2284"
                                }
                            ]
                        },
                        "text/html": "<table><tr><th>CITY</th><th>STATE</th><th>IDHM</th><th>IBGE_RES_POP</th><th>MUN_EXPENDIT</th><th>TOTAL_min</th></tr><tr><td>Assunção Do Piauí</td><td>PI</td><td>0,499</td><td>7503</td><td>18325692</td><td>2442</td></tr><tr><td>Cocal Dos Alves</td><td>PI</td><td>0,498</td><td>5572</td><td>12966428</td><td>2327</td></tr><tr><td>Cocal</td><td>PI</td><td>0,497</td><td>26036</td><td>50733134</td><td>1948</td></tr><tr><td>Pauini</td><td>AM</td><td>0,496</td><td>18166</td><td>31589139</td><td>1738</td></tr><tr><td>Satubinha</td><td>MA</td><td>0,493</td><td>11990</td><td>24082803</td><td>2008</td></tr><tr><td>Olivença</td><td>AL</td><td>0,493</td><td>11047</td><td>26624245</td><td>2410</td></tr><tr><td>Santo Antônio Do Içá</td><td>AM</td><td>0,49</td><td>24481</td><td>45201069</td><td>1846</td></tr><tr><td>Jenipapo Dos Vieiras</td><td>MA</td><td>0,49</td><td>15440</td><td>29244645</td><td>1894</td></tr><tr><td>Betânia Do Piauí</td><td>PI</td><td>0,489</td><td>6015</td><td>16103016</td><td>2677</td></tr><tr><td>Manari</td><td>PE</td><td>0,487</td><td>18083</td><td>40176640</td><td>2221</td></tr><tr><td>Itamarati</td><td>AM</td><td>0,477</td><td>8038</td><td>22521795</td><td>2801</td></tr><tr><td>Jordão</td><td>AC</td><td>0,469</td><td>6577</td><td>21724701</td><td>3303</td></tr><tr><td>Fernando Falcão</td><td>MA</td><td>0,443</td><td>9241</td><td>21114565</td><td>2284</td></tr></table>"
                    },
                    "metadata": {}
                }
            ],
            "execution_count": 9
        },
        {
            "cell_type": "markdown",
            "source": [
                "## Contador de tuplas"
            ],
            "metadata": {
                "language": "sql",
                "azdata_cell_guid": "00daf949-729f-4f63-8fd8-bfe4e2b63fdc"
            },
            "attachments": {}
        },
        {
            "cell_type": "code",
            "source": [
                "select COUNT(*) AS QUANTIDADE_TUPLAS\r\n",
                "FROM [dbo].[Tabela_MVP_04]"
            ],
            "metadata": {
                "azdata_cell_guid": "092353b9-d1bc-488d-8270-c3325c39aac0",
                "language": "sql",
                "tags": [
                    "hide_input"
                ]
            },
            "outputs": [
                {
                    "output_type": "display_data",
                    "data": {
                        "text/html": "(1 row affected)"
                    },
                    "metadata": {}
                },
                {
                    "output_type": "display_data",
                    "data": {
                        "text/html": "Total execution time: 00:00:00.183"
                    },
                    "metadata": {}
                },
                {
                    "output_type": "execute_result",
                    "execution_count": 1,
                    "data": {
                        "application/vnd.dataresource+json": {
                            "schema": {
                                "fields": [
                                    {
                                        "name": "QUANTIDADE_TUPLAS"
                                    }
                                ]
                            },
                            "data": [
                                {
                                    "QUANTIDADE_TUPLAS": "5584"
                                }
                            ]
                        },
                        "text/html": "<table><tr><th>QUANTIDADE_TUPLAS</th></tr><tr><td>5584</td></tr></table>"
                    },
                    "metadata": {}
                }
            ],
            "execution_count": 1
        },
        {
            "cell_type": "markdown",
            "source": [
                "## Coluna com os impostos por pessoa nas cidades com os maiores IDHM"
            ],
            "metadata": {
                "language": "sql",
                "azdata_cell_guid": "529cf2fe-ca94-4c8b-991e-e9713bad420e"
            },
            "attachments": {}
        },
        {
            "cell_type": "code",
            "source": [
                "select [CITY]\r\n",
                "      , [STATE]\r\n",
                "      , [IDHM]\r\n",
                "      , [IBGE_RES_POP]\r\n",
                "      , [TAXES]\r\n",
                "      , (TAXES / IBGE_RES_POP) AS \"TAXES_PERSON\"\r\n",
                "FROM [dbo].[Tabela_MVP_04]\r\n",
                "WHERE [IDHM] > 0.80\r\n",
                "oRDER BY \"IDHM\" desc\r\n",
                ""
            ],
            "metadata": {
                "language": "sql",
                "azdata_cell_guid": "b3366838-b778-4526-982c-dbb89a372181"
            },
            "outputs": [
                {
                    "output_type": "display_data",
                    "data": {
                        "text/html": "(42 rows affected)"
                    },
                    "metadata": {}
                },
                {
                    "output_type": "display_data",
                    "data": {
                        "text/html": "Total execution time: 00:00:00.149"
                    },
                    "metadata": {}
                },
                {
                    "output_type": "execute_result",
                    "execution_count": 6,
                    "data": {
                        "application/vnd.dataresource+json": {
                            "schema": {
                                "fields": [
                                    {
                                        "name": "CITY"
                                    },
                                    {
                                        "name": "STATE"
                                    },
                                    {
                                        "name": "IDHM"
                                    },
                                    {
                                        "name": "IBGE_POP"
                                    },
                                    {
                                        "name": "TAXES"
                                    },
                                    {
                                        "name": "TAXES_PERSON"
                                    }
                                ]
                            },
                            "data": [
                                {
                                    "CITY": "São Caetano Do Sul",
                                    "STATE": "SP",
                                    "IDHM": "0,862",
                                    "IBGE_POP": "148474",
                                    "TAXES": "2590079",
                                    "TAXES_PERSON": "17,444664"
                                },
                                {
                                    "CITY": "Águas De São Pedro",
                                    "STATE": "SP",
                                    "IDHM": "0,854",
                                    "IBGE_POP": "2687",
                                    "TAXES": "7533",
                                    "TAXES_PERSON": "2,8034983"
                                },
                                {
                                    "CITY": "Florianópolis",
                                    "STATE": "SC",
                                    "IDHM": "0,847",
                                    "IBGE_POP": "401987",
                                    "TAXES": "3220044",
                                    "TAXES_PERSON": "8,010319"
                                },
                                {
                                    "CITY": "Vitória",
                                    "STATE": "ES",
                                    "IDHM": "0,845",
                                    "IBGE_POP": "299922",
                                    "TAXES": "5108036",
                                    "TAXES_PERSON": "17,031216"
                                },
                                {
                                    "CITY": "Balneário Camboriú",
                                    "STATE": "SC",
                                    "IDHM": "0,845",
                                    "IBGE_POP": "90291",
                                    "TAXES": "488228",
                                    "TAXES_PERSON": "5,407272"
                                },
                                {
                                    "CITY": "Santos",
                                    "STATE": "SP",
                                    "IDHM": "0,84",
                                    "IBGE_POP": "399390",
                                    "TAXES": "2672549",
                                    "TAXES_PERSON": "6,691577"
                                },
                                {
                                    "CITY": "Niterói",
                                    "STATE": "RJ",
                                    "IDHM": "0,837",
                                    "IBGE_POP": "409668",
                                    "TAXES": "2292039",
                                    "TAXES_PERSON": "5,5948696"
                                },
                                {
                                    "CITY": "Joaçaba",
                                    "STATE": "SC",
                                    "IDHM": "0,827",
                                    "IBGE_POP": "15350",
                                    "TAXES": "184149",
                                    "TAXES_PERSON": "11,996677"
                                },
                                {
                                    "CITY": "Brasília",
                                    "STATE": "DF",
                                    "IDHM": "0,824",
                                    "IBGE_POP": "2450634",
                                    "TAXES": "29145584",
                                    "TAXES_PERSON": "11,893079"
                                },
                                {
                                    "CITY": "Curitiba",
                                    "STATE": "PR",
                                    "IDHM": "0,823",
                                    "IBGE_POP": "1688975",
                                    "TAXES": "15912488",
                                    "TAXES_PERSON": "9,421388"
                                },
                                {
                                    "CITY": "Jundiaí",
                                    "STATE": "SP",
                                    "IDHM": "0,822",
                                    "IBGE_POP": "323621",
                                    "TAXES": "7289366",
                                    "TAXES_PERSON": "22,524391"
                                },
                                {
                                    "CITY": "Valinhos",
                                    "STATE": "SP",
                                    "IDHM": "0,819",
                                    "IBGE_POP": "92139",
                                    "TAXES": "857779",
                                    "TAXES_PERSON": "9,309619"
                                },
                                {
                                    "CITY": "Vinhedo",
                                    "STATE": "SP",
                                    "IDHM": "0,817",
                                    "IBGE_POP": "58312",
                                    "TAXES": "1879394",
                                    "TAXES_PERSON": "32,22997"
                                },
                                {
                                    "CITY": "Araraquara",
                                    "STATE": "SP",
                                    "IDHM": "0,815",
                                    "IBGE_POP": "200956",
                                    "TAXES": "1135679",
                                    "TAXES_PERSON": "5,6513815"
                                },
                                {
                                    "CITY": "Santo André",
                                    "STATE": "SP",
                                    "IDHM": "0,815",
                                    "IBGE_POP": "645047",
                                    "TAXES": "3313237",
                                    "TAXES_PERSON": "5,1364274"
                                },
                                {
                                    "CITY": "Santana De Parnaíba",
                                    "STATE": "SP",
                                    "IDHM": "0,814",
                                    "IBGE_POP": "76030",
                                    "TAXES": "1394975",
                                    "TAXES_PERSON": "18,347692"
                                },
                                {
                                    "CITY": "Nova Lima",
                                    "STATE": "MG",
                                    "IDHM": "0,813",
                                    "IBGE_POP": "76049",
                                    "TAXES": "832527",
                                    "TAXES_PERSON": "10,947245"
                                },
                                {
                                    "CITY": "Ilha Solteira",
                                    "STATE": "SP",
                                    "IDHM": "0,812",
                                    "IBGE_POP": "23103",
                                    "TAXES": "27064",
                                    "TAXES_PERSON": "1,1714495"
                                },
                                {
                                    "CITY": "Americana",
                                    "STATE": "SP",
                                    "IDHM": "0,811",
                                    "IBGE_POP": "208976",
                                    "TAXES": "1443615",
                                    "TAXES_PERSON": "6,908042"
                                },
                                {
                                    "CITY": "Belo Horizonte",
                                    "STATE": "MG",
                                    "IDHM": "0,81",
                                    "IBGE_POP": "2263631",
                                    "TAXES": "12495658",
                                    "TAXES_PERSON": "5,520183"
                                },
                                {
                                    "CITY": "Joinville",
                                    "STATE": "SC",
                                    "IDHM": "0,809",
                                    "IBGE_POP": "467728",
                                    "TAXES": "4805942",
                                    "TAXES_PERSON": "10,275079"
                                },
                                {
                                    "CITY": "São José",
                                    "STATE": "SC",
                                    "IDHM": "0,809",
                                    "IBGE_POP": "196230",
                                    "TAXES": "1993455",
                                    "TAXES_PERSON": "10,158768"
                                },
                                {
                                    "CITY": "Maringá",
                                    "STATE": "PR",
                                    "IDHM": "0,808",
                                    "IBGE_POP": "346587",
                                    "TAXES": "1981627",
                                    "TAXES_PERSON": "5,7175455"
                                },
                                {
                                    "CITY": "São José Dos Campos",
                                    "STATE": "SP",
                                    "IDHM": "0,807",
                                    "IBGE_POP": "561832",
                                    "TAXES": "4998656",
                                    "TAXES_PERSON": "8,897065"
                                },
                                {
                                    "CITY": "Presidente Prudente",
                                    "STATE": "SP",
                                    "IDHM": "0,806",
                                    "IBGE_POP": "200527",
                                    "TAXES": "634164",
                                    "TAXES_PERSON": "3,1624868"
                                },
                                {
                                    "CITY": "Rio Fortuna",
                                    "STATE": "SC",
                                    "IDHM": "0,806",
                                    "IBGE_POP": "1522",
                                    "TAXES": "10112",
                                    "TAXES_PERSON": "6,6438894"
                                },
                                {
                                    "CITY": "Blumenau",
                                    "STATE": "SC",
                                    "IDHM": "0,806",
                                    "IBGE_POP": "276572",
                                    "TAXES": "2205434",
                                    "TAXES_PERSON": "7,974177"
                                },
                                {
                                    "CITY": "São Bernardo Do Campo",
                                    "STATE": "SP",
                                    "IDHM": "0,805",
                                    "IBGE_POP": "608468",
                                    "TAXES": "7102546",
                                    "TAXES_PERSON": "11,672834"
                                },
                                {
                                    "CITY": "Porto Alegre",
                                    "STATE": "RS",
                                    "IDHM": "0,805",
                                    "IBGE_POP": "1339712",
                                    "TAXES": "10986035",
                                    "TAXES_PERSON": "8,200296"
                                },
                                {
                                    "CITY": "Campinas",
                                    "STATE": "SP",
                                    "IDHM": "0,805",
                                    "IBGE_POP": "1004839",
                                    "TAXES": "9739610",
                                    "TAXES_PERSON": "9,692707"
                                },
                                {
                                    "CITY": "Assis",
                                    "STATE": "SP",
                                    "IDHM": "0,805",
                                    "IBGE_POP": "90768",
                                    "TAXES": "290982",
                                    "TAXES_PERSON": "3,2057774"
                                },
                                {
                                    "CITY": "Assis",
                                    "STATE": "SP",
                                    "IDHM": "0,805",
                                    "IBGE_POP": "90768",
                                    "TAXES": "290982",
                                    "TAXES_PERSON": "3,2057774"
                                },
                                {
                                    "CITY": "Assis",
                                    "STATE": "SP",
                                    "IDHM": "0,805",
                                    "IBGE_POP": "90768",
                                    "TAXES": "290982",
                                    "TAXES_PERSON": "3,2057774"
                                },
                                {
                                    "CITY": "Assis",
                                    "STATE": "SP",
                                    "IDHM": "0,805",
                                    "IBGE_POP": "90768",
                                    "TAXES": "290982",
                                    "TAXES_PERSON": "3,2057774"
                                },
                                {
                                    "CITY": "São Carlos",
                                    "STATE": "SP",
                                    "IDHM": "0,805",
                                    "IBGE_POP": "212769",
                                    "TAXES": "1085876",
                                    "TAXES_PERSON": "5,103544"
                                },
                                {
                                    "CITY": "São Paulo",
                                    "STATE": "SP",
                                    "IDHM": "0,805",
                                    "IBGE_POP": "10463636",
                                    "TAXES": "117125384",
                                    "TAXES_PERSON": "11,193564"
                                },
                                {
                                    "CITY": "Jaraguá Do Sul",
                                    "STATE": "SC",
                                    "IDHM": "0,803",
                                    "IBGE_POP": "89466",
                                    "TAXES": "1219048",
                                    "TAXES_PERSON": "13,625824"
                                },
                                {
                                    "CITY": "Rio Claro",
                                    "STATE": "SP",
                                    "IDHM": "0,803",
                                    "IBGE_POP": "180967",
                                    "TAXES": "1275073",
                                    "TAXES_PERSON": "7,045887"
                                },
                                {
                                    "CITY": "Rio Do Sul",
                                    "STATE": "SC",
                                    "IDHM": "0,802",
                                    "IBGE_POP": "56553",
                                    "TAXES": "265184",
                                    "TAXES_PERSON": "4,6891236"
                                },
                                {
                                    "CITY": "Pirassununga",
                                    "STATE": "SP",
                                    "IDHM": "0,801",
                                    "IBGE_POP": "64565",
                                    "TAXES": "348973",
                                    "TAXES_PERSON": "5,4049873"
                                },
                                {
                                    "CITY": "Bauru",
                                    "STATE": "SP",
                                    "IDHM": "0,801",
                                    "IBGE_POP": "336374",
                                    "TAXES": "1160932",
                                    "TAXES_PERSON": "3,451313"
                                },
                                {
                                    "CITY": "São Miguel Do Oeste",
                                    "STATE": "SC",
                                    "IDHM": "0,801",
                                    "IBGE_POP": "25834",
                                    "TAXES": "128609",
                                    "TAXES_PERSON": "4,9782844"
                                }
                            ]
                        },
                        "text/html": "<table><tr><th>CITY</th><th>STATE</th><th>IDHM</th><th>IBGE_POP</th><th>TAXES</th><th>TAXES_PERSON</th></tr><tr><td>São Caetano Do Sul</td><td>SP</td><td>0,862</td><td>148474</td><td>2590079</td><td>17,444664</td></tr><tr><td>Águas De São Pedro</td><td>SP</td><td>0,854</td><td>2687</td><td>7533</td><td>2,8034983</td></tr><tr><td>Florianópolis</td><td>SC</td><td>0,847</td><td>401987</td><td>3220044</td><td>8,010319</td></tr><tr><td>Vitória</td><td>ES</td><td>0,845</td><td>299922</td><td>5108036</td><td>17,031216</td></tr><tr><td>Balneário Camboriú</td><td>SC</td><td>0,845</td><td>90291</td><td>488228</td><td>5,407272</td></tr><tr><td>Santos</td><td>SP</td><td>0,84</td><td>399390</td><td>2672549</td><td>6,691577</td></tr><tr><td>Niterói</td><td>RJ</td><td>0,837</td><td>409668</td><td>2292039</td><td>5,5948696</td></tr><tr><td>Joaçaba</td><td>SC</td><td>0,827</td><td>15350</td><td>184149</td><td>11,996677</td></tr><tr><td>Brasília</td><td>DF</td><td>0,824</td><td>2450634</td><td>29145584</td><td>11,893079</td></tr><tr><td>Curitiba</td><td>PR</td><td>0,823</td><td>1688975</td><td>15912488</td><td>9,421388</td></tr><tr><td>Jundiaí</td><td>SP</td><td>0,822</td><td>323621</td><td>7289366</td><td>22,524391</td></tr><tr><td>Valinhos</td><td>SP</td><td>0,819</td><td>92139</td><td>857779</td><td>9,309619</td></tr><tr><td>Vinhedo</td><td>SP</td><td>0,817</td><td>58312</td><td>1879394</td><td>32,22997</td></tr><tr><td>Araraquara</td><td>SP</td><td>0,815</td><td>200956</td><td>1135679</td><td>5,6513815</td></tr><tr><td>Santo André</td><td>SP</td><td>0,815</td><td>645047</td><td>3313237</td><td>5,1364274</td></tr><tr><td>Santana De Parnaíba</td><td>SP</td><td>0,814</td><td>76030</td><td>1394975</td><td>18,347692</td></tr><tr><td>Nova Lima</td><td>MG</td><td>0,813</td><td>76049</td><td>832527</td><td>10,947245</td></tr><tr><td>Ilha Solteira</td><td>SP</td><td>0,812</td><td>23103</td><td>27064</td><td>1,1714495</td></tr><tr><td>Americana</td><td>SP</td><td>0,811</td><td>208976</td><td>1443615</td><td>6,908042</td></tr><tr><td>Belo Horizonte</td><td>MG</td><td>0,81</td><td>2263631</td><td>12495658</td><td>5,520183</td></tr><tr><td>Joinville</td><td>SC</td><td>0,809</td><td>467728</td><td>4805942</td><td>10,275079</td></tr><tr><td>São José</td><td>SC</td><td>0,809</td><td>196230</td><td>1993455</td><td>10,158768</td></tr><tr><td>Maringá</td><td>PR</td><td>0,808</td><td>346587</td><td>1981627</td><td>5,7175455</td></tr><tr><td>São José Dos Campos</td><td>SP</td><td>0,807</td><td>561832</td><td>4998656</td><td>8,897065</td></tr><tr><td>Presidente Prudente</td><td>SP</td><td>0,806</td><td>200527</td><td>634164</td><td>3,1624868</td></tr><tr><td>Rio Fortuna</td><td>SC</td><td>0,806</td><td>1522</td><td>10112</td><td>6,6438894</td></tr><tr><td>Blumenau</td><td>SC</td><td>0,806</td><td>276572</td><td>2205434</td><td>7,974177</td></tr><tr><td>São Bernardo Do Campo</td><td>SP</td><td>0,805</td><td>608468</td><td>7102546</td><td>11,672834</td></tr><tr><td>Porto Alegre</td><td>RS</td><td>0,805</td><td>1339712</td><td>10986035</td><td>8,200296</td></tr><tr><td>Campinas</td><td>SP</td><td>0,805</td><td>1004839</td><td>9739610</td><td>9,692707</td></tr><tr><td>Assis</td><td>SP</td><td>0,805</td><td>90768</td><td>290982</td><td>3,2057774</td></tr><tr><td>Assis</td><td>SP</td><td>0,805</td><td>90768</td><td>290982</td><td>3,2057774</td></tr><tr><td>Assis</td><td>SP</td><td>0,805</td><td>90768</td><td>290982</td><td>3,2057774</td></tr><tr><td>Assis</td><td>SP</td><td>0,805</td><td>90768</td><td>290982</td><td>3,2057774</td></tr><tr><td>São Carlos</td><td>SP</td><td>0,805</td><td>212769</td><td>1085876</td><td>5,103544</td></tr><tr><td>São Paulo</td><td>SP</td><td>0,805</td><td>10463636</td><td>117125384</td><td>11,193564</td></tr><tr><td>Jaraguá Do Sul</td><td>SC</td><td>0,803</td><td>89466</td><td>1219048</td><td>13,625824</td></tr><tr><td>Rio Claro</td><td>SP</td><td>0,803</td><td>180967</td><td>1275073</td><td>7,045887</td></tr><tr><td>Rio Do Sul</td><td>SC</td><td>0,802</td><td>56553</td><td>265184</td><td>4,6891236</td></tr><tr><td>Pirassununga</td><td>SP</td><td>0,801</td><td>64565</td><td>348973</td><td>5,4049873</td></tr><tr><td>Bauru</td><td>SP</td><td>0,801</td><td>336374</td><td>1160932</td><td>3,451313</td></tr><tr><td>São Miguel Do Oeste</td><td>SC</td><td>0,801</td><td>25834</td><td>128609</td><td>4,9782844</td></tr></table>"
                    },
                    "metadata": {}
                }
            ],
            "execution_count": 6
        },
        {
            "cell_type": "markdown",
            "source": [
                "## Gráfico das taxas por pessoa das Cidades com os maiores IDHM por país"
            ],
            "metadata": {
                "language": "sql",
                "azdata_cell_guid": "b78d6c30-4845-4623-9976-8252852536cc"
            },
            "attachments": {}
        },
        {
            "cell_type": "code",
            "source": [
                "select [CITY]\r\n",
                "      ,  CAST (TAXES/IBGE_RES_POP as numeric (10,3)) as TAXES_PERSON_Max\r\n",
                "FROM [dbo].[Tabela_MVP_04]\r\n",
                "WHERE [IDHM] > 0.80\r\n",
                "and [IBGE_RES_POP]>0\r\n",
                "order by [IDHM] DESC"
            ],
            "metadata": {
                "language": "sql",
                "azdata_cell_guid": "95571973-ae85-491d-8a2c-914df6586cea"
            },
            "outputs": [
                {
                    "output_type": "display_data",
                    "data": {
                        "text/html": "(42 rows affected)"
                    },
                    "metadata": {}
                },
                {
                    "output_type": "display_data",
                    "data": {
                        "text/html": "Total execution time: 00:00:00.150"
                    },
                    "metadata": {}
                },
                {
                    "output_type": "execute_result",
                    "execution_count": 11,
                    "data": {
                        "application/vnd.dataresource+json": {
                            "schema": {
                                "fields": [
                                    {
                                        "name": "CITY"
                                    },
                                    {
                                        "name": "TAXES_PERSON_Max"
                                    }
                                ]
                            },
                            "data": [
                                {
                                    "CITY": "São Caetano Do Sul",
                                    "TAXES_PERSON_Max": "17.352"
                                },
                                {
                                    "CITY": "Águas De São Pedro",
                                    "TAXES_PERSON_Max": "2.783"
                                },
                                {
                                    "CITY": "Florianópolis",
                                    "TAXES_PERSON_Max": "7.644"
                                },
                                {
                                    "CITY": "Vitória",
                                    "TAXES_PERSON_Max": "15.583"
                                },
                                {
                                    "CITY": "Balneário Camboriú",
                                    "TAXES_PERSON_Max": "4.517"
                                },
                                {
                                    "CITY": "Santos",
                                    "TAXES_PERSON_Max": "6.372"
                                },
                                {
                                    "CITY": "Niterói",
                                    "TAXES_PERSON_Max": "4.701"
                                },
                                {
                                    "CITY": "Joaçaba",
                                    "TAXES_PERSON_Max": "6.815"
                                },
                                {
                                    "CITY": "Brasília",
                                    "TAXES_PERSON_Max": "11.340"
                                },
                                {
                                    "CITY": "Curitiba",
                                    "TAXES_PERSON_Max": "9.083"
                                },
                                {
                                    "CITY": "Jundiaí",
                                    "TAXES_PERSON_Max": "19.694"
                                },
                                {
                                    "CITY": "Valinhos",
                                    "TAXES_PERSON_Max": "8.032"
                                },
                                {
                                    "CITY": "Vinhedo",
                                    "TAXES_PERSON_Max": "29.545"
                                },
                                {
                                    "CITY": "Araraquara",
                                    "TAXES_PERSON_Max": "5.443"
                                },
                                {
                                    "CITY": "Santo André",
                                    "TAXES_PERSON_Max": "4.898"
                                },
                                {
                                    "CITY": "Santana De Parnaíba",
                                    "TAXES_PERSON_Max": "12.820"
                                },
                                {
                                    "CITY": "Nova Lima",
                                    "TAXES_PERSON_Max": "10.278"
                                },
                                {
                                    "CITY": "Ilha Solteira",
                                    "TAXES_PERSON_Max": "1.080"
                                },
                                {
                                    "CITY": "Americana",
                                    "TAXES_PERSON_Max": "6.854"
                                },
                                {
                                    "CITY": "Belo Horizonte",
                                    "TAXES_PERSON_Max": "5.261"
                                },
                                {
                                    "CITY": "Joinville",
                                    "TAXES_PERSON_Max": "9.327"
                                },
                                {
                                    "CITY": "São José",
                                    "TAXES_PERSON_Max": "9.502"
                                },
                                {
                                    "CITY": "Maringá",
                                    "TAXES_PERSON_Max": "5.550"
                                },
                                {
                                    "CITY": "São José Dos Campos",
                                    "TAXES_PERSON_Max": "7.935"
                                },
                                {
                                    "CITY": "Presidente Prudente",
                                    "TAXES_PERSON_Max": "3.055"
                                },
                                {
                                    "CITY": "Rio Fortuna",
                                    "TAXES_PERSON_Max": "2.274"
                                },
                                {
                                    "CITY": "Blumenau",
                                    "TAXES_PERSON_Max": "7.137"
                                },
                                {
                                    "CITY": "São Bernardo Do Campo",
                                    "TAXES_PERSON_Max": "9.279"
                                },
                                {
                                    "CITY": "Porto Alegre",
                                    "TAXES_PERSON_Max": "7.795"
                                },
                                {
                                    "CITY": "Campinas",
                                    "TAXES_PERSON_Max": "9.017"
                                },
                                {
                                    "CITY": "Assis",
                                    "TAXES_PERSON_Max": "3.058"
                                },
                                {
                                    "CITY": "Assis",
                                    "TAXES_PERSON_Max": "3.058"
                                },
                                {
                                    "CITY": "Assis",
                                    "TAXES_PERSON_Max": "3.058"
                                },
                                {
                                    "CITY": "Assis",
                                    "TAXES_PERSON_Max": "3.058"
                                },
                                {
                                    "CITY": "São Carlos",
                                    "TAXES_PERSON_Max": "4.892"
                                },
                                {
                                    "CITY": "São Paulo",
                                    "TAXES_PERSON_Max": "10.408"
                                },
                                {
                                    "CITY": "Jaraguá Do Sul",
                                    "TAXES_PERSON_Max": "8.517"
                                },
                                {
                                    "CITY": "Rio Claro",
                                    "TAXES_PERSON_Max": "6.846"
                                },
                                {
                                    "CITY": "Rio Do Sul",
                                    "TAXES_PERSON_Max": "4.333"
                                },
                                {
                                    "CITY": "Pirassununga",
                                    "TAXES_PERSON_Max": "4.980"
                                },
                                {
                                    "CITY": "Bauru",
                                    "TAXES_PERSON_Max": "3.375"
                                },
                                {
                                    "CITY": "São Miguel Do Oeste",
                                    "TAXES_PERSON_Max": "3.542"
                                }
                            ]
                        },
                        "text/html": "<table><tr><th>CITY</th><th>TAXES_PERSON_Max</th></tr><tr><td>São Caetano Do Sul</td><td>17.352</td></tr><tr><td>Águas De São Pedro</td><td>2.783</td></tr><tr><td>Florianópolis</td><td>7.644</td></tr><tr><td>Vitória</td><td>15.583</td></tr><tr><td>Balneário Camboriú</td><td>4.517</td></tr><tr><td>Santos</td><td>6.372</td></tr><tr><td>Niterói</td><td>4.701</td></tr><tr><td>Joaçaba</td><td>6.815</td></tr><tr><td>Brasília</td><td>11.340</td></tr><tr><td>Curitiba</td><td>9.083</td></tr><tr><td>Jundiaí</td><td>19.694</td></tr><tr><td>Valinhos</td><td>8.032</td></tr><tr><td>Vinhedo</td><td>29.545</td></tr><tr><td>Araraquara</td><td>5.443</td></tr><tr><td>Santo André</td><td>4.898</td></tr><tr><td>Santana De Parnaíba</td><td>12.820</td></tr><tr><td>Nova Lima</td><td>10.278</td></tr><tr><td>Ilha Solteira</td><td>1.080</td></tr><tr><td>Americana</td><td>6.854</td></tr><tr><td>Belo Horizonte</td><td>5.261</td></tr><tr><td>Joinville</td><td>9.327</td></tr><tr><td>São José</td><td>9.502</td></tr><tr><td>Maringá</td><td>5.550</td></tr><tr><td>São José Dos Campos</td><td>7.935</td></tr><tr><td>Presidente Prudente</td><td>3.055</td></tr><tr><td>Rio Fortuna</td><td>2.274</td></tr><tr><td>Blumenau</td><td>7.137</td></tr><tr><td>São Bernardo Do Campo</td><td>9.279</td></tr><tr><td>Porto Alegre</td><td>7.795</td></tr><tr><td>Campinas</td><td>9.017</td></tr><tr><td>Assis</td><td>3.058</td></tr><tr><td>Assis</td><td>3.058</td></tr><tr><td>Assis</td><td>3.058</td></tr><tr><td>Assis</td><td>3.058</td></tr><tr><td>São Carlos</td><td>4.892</td></tr><tr><td>São Paulo</td><td>10.408</td></tr><tr><td>Jaraguá Do Sul</td><td>8.517</td></tr><tr><td>Rio Claro</td><td>6.846</td></tr><tr><td>Rio Do Sul</td><td>4.333</td></tr><tr><td>Pirassununga</td><td>4.980</td></tr><tr><td>Bauru</td><td>3.375</td></tr><tr><td>São Miguel Do Oeste</td><td>3.542</td></tr></table>"
                    },
                    "metadata": {
                        "azdata_chartOptions": {
                            "type": "bar",
                            "dataDirection": "vertical",
                            "columnsAsLabels": true,
                            "labelFirstColumn": true,
                            "legendPosition": "top"
                        }
                    }
                }
            ],
            "execution_count": 11
        },
        {
            "cell_type": "markdown",
            "source": [
                "## Média de impostos por pessoa nas Cidades com os maiores IDHM"
            ],
            "metadata": {
                "language": "sql",
                "azdata_cell_guid": "65e7a870-bea5-48c2-9bd3-e88972cd1c9a"
            },
            "attachments": {}
        },
        {
            "cell_type": "code",
            "source": [
                "SELECT AVG (CAST (TAXES/IBGE_RES_POP as numeric (10,3))) as TAXES_PERSON_Max \r\n",
                "FROM [dbo].[Tabela_MVP_04]\r\n",
                "WHERE [IDHM] > 0.80\r\n",
                "AND IBGE_RES_POP >0"
            ],
            "metadata": {
                "language": "sql",
                "azdata_cell_guid": "b3e28952-6618-4271-8b53-786cd3ff01e9"
            },
            "outputs": [
                {
                    "output_type": "display_data",
                    "data": {
                        "text/html": "(1 row affected)"
                    },
                    "metadata": {}
                },
                {
                    "output_type": "display_data",
                    "data": {
                        "text/html": "Total execution time: 00:00:00.141"
                    },
                    "metadata": {}
                },
                {
                    "output_type": "execute_result",
                    "execution_count": 12,
                    "data": {
                        "application/vnd.dataresource+json": {
                            "schema": {
                                "fields": [
                                    {
                                        "name": "TAXES_PERSON_Max"
                                    }
                                ]
                            },
                            "data": [
                                {
                                    "TAXES_PERSON_Max": "7.621214"
                                }
                            ]
                        },
                        "text/html": "<table><tr><th>TAXES_PERSON_Max</th></tr><tr><td>7.621214</td></tr></table>"
                    },
                    "metadata": {}
                }
            ],
            "execution_count": 12
        },
        {
            "cell_type": "markdown",
            "source": [
                "## Gráfico dos impostos por pessoa das Cidades com os menores IDHM"
            ],
            "metadata": {
                "language": "sql",
                "azdata_cell_guid": "3e62ffaa-f1b3-4c38-a8a9-059440d676ba"
            },
            "attachments": {}
        },
        {
            "cell_type": "code",
            "source": [
                "select [CITY]\r\n",
                "      ,  CAST (TAXES/IBGE_RES_POP as numeric (10,3)) as TAXES_PERSON_Min\r\n",
                "FROM [dbo].[Tabela_MVP_04]\r\n",
                "WHERE [IDHM] < 0.50\r\n",
                "and [IBGE_RES_POP]>0\r\n",
                "order by [IDHM] DESC\r\n",
                ""
            ],
            "metadata": {
                "language": "sql",
                "azdata_cell_guid": "a08dd34a-19b4-4a94-a460-4bb55f268efc"
            },
            "outputs": [
                {
                    "output_type": "display_data",
                    "data": {
                        "text/html": "(34 rows affected)"
                    },
                    "metadata": {}
                },
                {
                    "output_type": "display_data",
                    "data": {
                        "text/html": "Total execution time: 00:00:00.142"
                    },
                    "metadata": {}
                },
                {
                    "output_type": "execute_result",
                    "execution_count": 13,
                    "data": {
                        "application/vnd.dataresource+json": {
                            "schema": {
                                "fields": [
                                    {
                                        "name": "CITY"
                                    },
                                    {
                                        "name": "TAXES_PERSON_Min"
                                    }
                                ]
                            },
                            "data": [
                                {
                                    "CITY": "Assunção Do Piauí",
                                    "TAXES_PERSON_Min": "0.177"
                                },
                                {
                                    "CITY": "Cocal Dos Alves",
                                    "TAXES_PERSON_Min": "0.289"
                                },
                                {
                                    "CITY": "Maraã",
                                    "TAXES_PERSON_Min": "0.119"
                                },
                                {
                                    "CITY": "Cocal",
                                    "TAXES_PERSON_Min": "0.400"
                                },
                                {
                                    "CITY": "Pauini",
                                    "TAXES_PERSON_Min": "0.124"
                                },
                                {
                                    "CITY": "Satubinha",
                                    "TAXES_PERSON_Min": "0.151"
                                },
                                {
                                    "CITY": "Olivença",
                                    "TAXES_PERSON_Min": "0.155"
                                },
                                {
                                    "CITY": "Jenipapo Dos Vieiras",
                                    "TAXES_PERSON_Min": "0.121"
                                },
                                {
                                    "CITY": "Santo Antônio Do Içá",
                                    "TAXES_PERSON_Min": "0.154"
                                },
                                {
                                    "CITY": "Ipixuna Do Pará",
                                    "TAXES_PERSON_Min": "0.392"
                                },
                                {
                                    "CITY": "Afuá",
                                    "TAXES_PERSON_Min": "0.265"
                                },
                                {
                                    "CITY": "Betânia Do Piauí",
                                    "TAXES_PERSON_Min": "0.354"
                                },
                                {
                                    "CITY": "Caxingó",
                                    "TAXES_PERSON_Min": "0.412"
                                },
                                {
                                    "CITY": "Manari",
                                    "TAXES_PERSON_Min": "0.172"
                                },
                                {
                                    "CITY": "Itapicuru",
                                    "TAXES_PERSON_Min": "0.303"
                                },
                                {
                                    "CITY": "São Francisco De Assis Do Piauí",
                                    "TAXES_PERSON_Min": "0.455"
                                },
                                {
                                    "CITY": "Amajari",
                                    "TAXES_PERSON_Min": "0.095"
                                },
                                {
                                    "CITY": "Anajás",
                                    "TAXES_PERSON_Min": "0.337"
                                },
                                {
                                    "CITY": "Inhapi",
                                    "TAXES_PERSON_Min": "0.263"
                                },
                                {
                                    "CITY": "Portel",
                                    "TAXES_PERSON_Min": "0.338"
                                },
                                {
                                    "CITY": "Ipixuna",
                                    "TAXES_PERSON_Min": "0.074"
                                },
                                {
                                    "CITY": "Santa Isabel Do Rio Negro",
                                    "TAXES_PERSON_Min": "0.079"
                                },
                                {
                                    "CITY": "Itamarati",
                                    "TAXES_PERSON_Min": "0.195"
                                },
                                {
                                    "CITY": "Cachoeira Do Piriá",
                                    "TAXES_PERSON_Min": "0.178"
                                },
                                {
                                    "CITY": "Bagre",
                                    "TAXES_PERSON_Min": "0.127"
                                },
                                {
                                    "CITY": "Jordão",
                                    "TAXES_PERSON_Min": "0.219"
                                },
                                {
                                    "CITY": "Uiramutã",
                                    "TAXES_PERSON_Min": "0.071"
                                },
                                {
                                    "CITY": "Chaves",
                                    "TAXES_PERSON_Min": "0.161"
                                },
                                {
                                    "CITY": "Marajá Do Sena",
                                    "TAXES_PERSON_Min": "0.120"
                                },
                                {
                                    "CITY": "Atalaia Do Norte",
                                    "TAXES_PERSON_Min": "0.126"
                                },
                                {
                                    "CITY": "Fernando Falcão",
                                    "TAXES_PERSON_Min": "0.211"
                                },
                                {
                                    "CITY": "Melgaço",
                                    "TAXES_PERSON_Min": "0.145"
                                },
                                {
                                    "CITY": "Santa Terezinha",
                                    "TAXES_PERSON_Min": "0.326"
                                },
                                {
                                    "CITY": "São Vicente Do Seridó",
                                    "TAXES_PERSON_Min": "0.186"
                                }
                            ]
                        },
                        "text/html": "<table><tr><th>CITY</th><th>TAXES_PERSON_Min</th></tr><tr><td>Assunção Do Piauí</td><td>0.177</td></tr><tr><td>Cocal Dos Alves</td><td>0.289</td></tr><tr><td>Maraã</td><td>0.119</td></tr><tr><td>Cocal</td><td>0.400</td></tr><tr><td>Pauini</td><td>0.124</td></tr><tr><td>Satubinha</td><td>0.151</td></tr><tr><td>Olivença</td><td>0.155</td></tr><tr><td>Jenipapo Dos Vieiras</td><td>0.121</td></tr><tr><td>Santo Antônio Do Içá</td><td>0.154</td></tr><tr><td>Ipixuna Do Pará</td><td>0.392</td></tr><tr><td>Afuá</td><td>0.265</td></tr><tr><td>Betânia Do Piauí</td><td>0.354</td></tr><tr><td>Caxingó</td><td>0.412</td></tr><tr><td>Manari</td><td>0.172</td></tr><tr><td>Itapicuru</td><td>0.303</td></tr><tr><td>São Francisco De Assis Do Piauí</td><td>0.455</td></tr><tr><td>Amajari</td><td>0.095</td></tr><tr><td>Anajás</td><td>0.337</td></tr><tr><td>Inhapi</td><td>0.263</td></tr><tr><td>Portel</td><td>0.338</td></tr><tr><td>Ipixuna</td><td>0.074</td></tr><tr><td>Santa Isabel Do Rio Negro</td><td>0.079</td></tr><tr><td>Itamarati</td><td>0.195</td></tr><tr><td>Cachoeira Do Piriá</td><td>0.178</td></tr><tr><td>Bagre</td><td>0.127</td></tr><tr><td>Jordão</td><td>0.219</td></tr><tr><td>Uiramutã</td><td>0.071</td></tr><tr><td>Chaves</td><td>0.161</td></tr><tr><td>Marajá Do Sena</td><td>0.120</td></tr><tr><td>Atalaia Do Norte</td><td>0.126</td></tr><tr><td>Fernando Falcão</td><td>0.211</td></tr><tr><td>Melgaço</td><td>0.145</td></tr><tr><td>Santa Terezinha</td><td>0.326</td></tr><tr><td>São Vicente Do Seridó</td><td>0.186</td></tr></table>"
                    },
                    "metadata": {
                        "azdata_chartOptions": {
                            "type": "bar",
                            "dataDirection": "vertical",
                            "columnsAsLabels": true,
                            "labelFirstColumn": true,
                            "legendPosition": "top"
                        }
                    }
                }
            ],
            "execution_count": 13
        },
        {
            "cell_type": "markdown",
            "source": [
                "## Média dos impostos por pessoa das Cidades com os menores IDHM"
            ],
            "metadata": {
                "language": "sql",
                "azdata_cell_guid": "c9516bc0-95bd-4666-9e4c-5a67ade95e00"
            },
            "attachments": {}
        },
        {
            "cell_type": "code",
            "source": [
                "SELECT AVG (CAST (TAXES/IBGE_RES_POP as numeric (10,3))) as TAXES_PERSON_Min\r\n",
                "FROM [dbo].[Tabela_MVP_04]\r\n",
                "WHERE [IDHM] < 0.50\r\n",
                "AND IBGE_RES_POP >0"
            ],
            "metadata": {
                "language": "sql",
                "azdata_cell_guid": "656b6f0e-5c84-4979-a242-9e831ec1153a"
            },
            "outputs": [
                {
                    "output_type": "display_data",
                    "data": {
                        "text/html": "(1 row affected)"
                    },
                    "metadata": {}
                },
                {
                    "output_type": "display_data",
                    "data": {
                        "text/html": "Total execution time: 00:00:00.138"
                    },
                    "metadata": {}
                },
                {
                    "output_type": "execute_result",
                    "execution_count": 14,
                    "data": {
                        "application/vnd.dataresource+json": {
                            "schema": {
                                "fields": [
                                    {
                                        "name": "TAXES_PERSON_Min"
                                    }
                                ]
                            },
                            "data": [
                                {
                                    "TAXES_PERSON_Min": "0.214529"
                                }
                            ]
                        },
                        "text/html": "<table><tr><th>TAXES_PERSON_Min</th></tr><tr><td>0.214529</td></tr></table>"
                    },
                    "metadata": {}
                }
            ],
            "execution_count": 14
        },
        {
            "cell_type": "markdown",
            "source": [
                "## Gráfico do GVA\\_Public por pessoa das Cidades com os maiores e menores IDHM"
            ],
            "metadata": {
                "language": "sql",
                "azdata_cell_guid": "d461b90f-99d4-43fc-8f1f-414ef4243b0b"
            },
            "attachments": {}
        },
        {
            "cell_type": "code",
            "source": [
                "select DISTINCT [CITY]\r\n",
                "      , [IDHM]\r\n",
                "      , CAST (GVA_PUBLIC/IBGE_RES_POP as numeric (10,3)) as GVA_PUBLIC_Person\r\n",
                "FROM [dbo].[Tabela_MVP_04]\r\n",
                "WHERE [IDHM] > 0.80\r\n",
                "or [IDHM] < 0.50\r\n",
                "AND IBGE_RES_POP >0\r\n",
                "ORDER BY [IDHM]"
            ],
            "metadata": {
                "language": "sql",
                "azdata_cell_guid": "17f41d1f-c6cd-41a9-a938-61c2c8e8936b",
                "tags": []
            },
            "outputs": [
                {
                    "output_type": "display_data",
                    "data": {
                        "text/html": "(73 rows affected)"
                    },
                    "metadata": {}
                },
                {
                    "output_type": "display_data",
                    "data": {
                        "text/html": "Total execution time: 00:00:00.175"
                    },
                    "metadata": {}
                },
                {
                    "output_type": "execute_result",
                    "execution_count": 16,
                    "data": {
                        "application/vnd.dataresource+json": {
                            "schema": {
                                "fields": [
                                    {
                                        "name": "CITY"
                                    },
                                    {
                                        "name": "IDHM"
                                    },
                                    {
                                        "name": "GVA_PUBLIC_Person"
                                    }
                                ]
                            },
                            "data": [
                                {
                                    "CITY": "Santa Terezinha",
                                    "IDHM": "0",
                                    "GVA_PUBLIC_Person": "3.382"
                                },
                                {
                                    "CITY": "São Vicente Do Seridó",
                                    "IDHM": "0",
                                    "GVA_PUBLIC_Person": "4.406"
                                },
                                {
                                    "CITY": "Melgaço",
                                    "IDHM": "0,418",
                                    "GVA_PUBLIC_Person": "4.100"
                                },
                                {
                                    "CITY": "Fernando Falcão",
                                    "IDHM": "0,443",
                                    "GVA_PUBLIC_Person": "3.173"
                                },
                                {
                                    "CITY": "Atalaia Do Norte",
                                    "IDHM": "0,45",
                                    "GVA_PUBLIC_Person": "5.198"
                                },
                                {
                                    "CITY": "Marajá Do Sena",
                                    "IDHM": "0,452",
                                    "GVA_PUBLIC_Person": "2.931"
                                },
                                {
                                    "CITY": "Chaves",
                                    "IDHM": "0,453",
                                    "GVA_PUBLIC_Person": "4.017"
                                },
                                {
                                    "CITY": "Uiramutã",
                                    "IDHM": "0,453",
                                    "GVA_PUBLIC_Person": "10.422"
                                },
                                {
                                    "CITY": "Jordão",
                                    "IDHM": "0,469",
                                    "GVA_PUBLIC_Person": "7.790"
                                },
                                {
                                    "CITY": "Bagre",
                                    "IDHM": "0,471",
                                    "GVA_PUBLIC_Person": "3.543"
                                },
                                {
                                    "CITY": "Cachoeira Do Piriá",
                                    "IDHM": "0,473",
                                    "GVA_PUBLIC_Person": "3.756"
                                },
                                {
                                    "CITY": "Itamarati",
                                    "IDHM": "0,477",
                                    "GVA_PUBLIC_Person": "4.599"
                                },
                                {
                                    "CITY": "Santa Isabel Do Rio Negro",
                                    "IDHM": "0,479",
                                    "GVA_PUBLIC_Person": "4.428"
                                },
                                {
                                    "CITY": "Ipixuna",
                                    "IDHM": "0,481",
                                    "GVA_PUBLIC_Person": "4.163"
                                },
                                {
                                    "CITY": "Portel",
                                    "IDHM": "0,483",
                                    "GVA_PUBLIC_Person": "4.023"
                                },
                                {
                                    "CITY": "Amajari",
                                    "IDHM": "0,484",
                                    "GVA_PUBLIC_Person": "10.165"
                                },
                                {
                                    "CITY": "Anajás",
                                    "IDHM": "0,484",
                                    "GVA_PUBLIC_Person": "4.040"
                                },
                                {
                                    "CITY": "Inhapi",
                                    "IDHM": "0,484",
                                    "GVA_PUBLIC_Person": "3.382"
                                },
                                {
                                    "CITY": "São Francisco De Assis Do Piauí",
                                    "IDHM": "0,485",
                                    "GVA_PUBLIC_Person": "4.132"
                                },
                                {
                                    "CITY": "Itapicuru",
                                    "IDHM": "0,486",
                                    "GVA_PUBLIC_Person": "3.330"
                                },
                                {
                                    "CITY": "Manari",
                                    "IDHM": "0,487",
                                    "GVA_PUBLIC_Person": "4.438"
                                },
                                {
                                    "CITY": "Caxingó",
                                    "IDHM": "0,488",
                                    "GVA_PUBLIC_Person": "4.663"
                                },
                                {
                                    "CITY": "Afuá",
                                    "IDHM": "0,489",
                                    "GVA_PUBLIC_Person": "3.983"
                                },
                                {
                                    "CITY": "Betânia Do Piauí",
                                    "IDHM": "0,489",
                                    "GVA_PUBLIC_Person": "4.258"
                                },
                                {
                                    "CITY": "Ipixuna Do Pará",
                                    "IDHM": "0,489",
                                    "GVA_PUBLIC_Person": "3.627"
                                },
                                {
                                    "CITY": "Jenipapo Dos Vieiras",
                                    "IDHM": "0,49",
                                    "GVA_PUBLIC_Person": "2.987"
                                },
                                {
                                    "CITY": "Santo Antônio Do Içá",
                                    "IDHM": "0,49",
                                    "GVA_PUBLIC_Person": "4.007"
                                },
                                {
                                    "CITY": "Olivença",
                                    "IDHM": "0,493",
                                    "GVA_PUBLIC_Person": "3.808"
                                },
                                {
                                    "CITY": "Satubinha",
                                    "IDHM": "0,493",
                                    "GVA_PUBLIC_Person": "3.254"
                                },
                                {
                                    "CITY": "Pauini",
                                    "IDHM": "0,496",
                                    "GVA_PUBLIC_Person": "4.283"
                                },
                                {
                                    "CITY": "Cocal",
                                    "IDHM": "0,497",
                                    "GVA_PUBLIC_Person": "3.914"
                                },
                                {
                                    "CITY": "Cocal Dos Alves",
                                    "IDHM": "0,498",
                                    "GVA_PUBLIC_Person": "4.448"
                                },
                                {
                                    "CITY": "Maraã",
                                    "IDHM": "0,498",
                                    "GVA_PUBLIC_Person": "4.436"
                                },
                                {
                                    "CITY": "Assunção Do Piauí",
                                    "IDHM": "0,499",
                                    "GVA_PUBLIC_Person": "3.997"
                                },
                                {
                                    "CITY": "Bauru",
                                    "IDHM": "0,801",
                                    "GVA_PUBLIC_Person": "3.851"
                                },
                                {
                                    "CITY": "Pirassununga",
                                    "IDHM": "0,801",
                                    "GVA_PUBLIC_Person": "4.036"
                                },
                                {
                                    "CITY": "São Miguel Do Oeste",
                                    "IDHM": "0,801",
                                    "GVA_PUBLIC_Person": "4.667"
                                },
                                {
                                    "CITY": "Rio Do Sul",
                                    "IDHM": "0,802",
                                    "GVA_PUBLIC_Person": "4.756"
                                },
                                {
                                    "CITY": "Jaraguá Do Sul",
                                    "IDHM": "0,803",
                                    "GVA_PUBLIC_Person": "5.753"
                                },
                                {
                                    "CITY": "Rio Claro",
                                    "IDHM": "0,803",
                                    "GVA_PUBLIC_Person": "4.259"
                                },
                                {
                                    "CITY": "Assis",
                                    "IDHM": "0,805",
                                    "GVA_PUBLIC_Person": "3.737"
                                },
                                {
                                    "CITY": "Campinas",
                                    "IDHM": "0,805",
                                    "GVA_PUBLIC_Person": "4.128"
                                },
                                {
                                    "CITY": "Porto Alegre",
                                    "IDHM": "0,805",
                                    "GVA_PUBLIC_Person": "4.763"
                                },
                                {
                                    "CITY": "São Bernardo Do Campo",
                                    "IDHM": "0,805",
                                    "GVA_PUBLIC_Person": "3.906"
                                },
                                {
                                    "CITY": "São Carlos",
                                    "IDHM": "0,805",
                                    "GVA_PUBLIC_Person": "4.197"
                                },
                                {
                                    "CITY": "São Paulo",
                                    "IDHM": "0,805",
                                    "GVA_PUBLIC_Person": "3.724"
                                },
                                {
                                    "CITY": "Blumenau",
                                    "IDHM": "0,806",
                                    "GVA_PUBLIC_Person": "4.813"
                                },
                                {
                                    "CITY": "Presidente Prudente",
                                    "IDHM": "0,806",
                                    "GVA_PUBLIC_Person": "3.616"
                                },
                                {
                                    "CITY": "Rio Fortuna",
                                    "IDHM": "0,806",
                                    "GVA_PUBLIC_Person": "4.891"
                                },
                                {
                                    "CITY": "São José Dos Campos",
                                    "IDHM": "0,807",
                                    "GVA_PUBLIC_Person": "4.091"
                                },
                                {
                                    "CITY": "Maringá",
                                    "IDHM": "0,808",
                                    "GVA_PUBLIC_Person": "4.837"
                                },
                                {
                                    "CITY": "Joinville",
                                    "IDHM": "0,809",
                                    "GVA_PUBLIC_Person": "5.047"
                                },
                                {
                                    "CITY": "São José",
                                    "IDHM": "0,809",
                                    "GVA_PUBLIC_Person": "4.701"
                                },
                                {
                                    "CITY": "Belo Horizonte",
                                    "IDHM": "0,81",
                                    "GVA_PUBLIC_Person": "4.490"
                                },
                                {
                                    "CITY": "Americana",
                                    "IDHM": "0,811",
                                    "GVA_PUBLIC_Person": "4.372"
                                },
                                {
                                    "CITY": "Ilha Solteira",
                                    "IDHM": "0,812",
                                    "GVA_PUBLIC_Person": "5.074"
                                },
                                {
                                    "CITY": "Nova Lima",
                                    "IDHM": "0,813",
                                    "GVA_PUBLIC_Person": "7.275"
                                },
                                {
                                    "CITY": "Santana De Parnaíba",
                                    "IDHM": "0,814",
                                    "GVA_PUBLIC_Person": "6.055"
                                },
                                {
                                    "CITY": "Araraquara",
                                    "IDHM": "0,815",
                                    "GVA_PUBLIC_Person": "4.330"
                                },
                                {
                                    "CITY": "Santo André",
                                    "IDHM": "0,815",
                                    "GVA_PUBLIC_Person": "3.644"
                                },
                                {
                                    "CITY": "Vinhedo",
                                    "IDHM": "0,817",
                                    "GVA_PUBLIC_Person": "5.953"
                                },
                                {
                                    "CITY": "Valinhos",
                                    "IDHM": "0,819",
                                    "GVA_PUBLIC_Person": "4.742"
                                },
                                {
                                    "CITY": "Jundiaí",
                                    "IDHM": "0,822",
                                    "GVA_PUBLIC_Person": "4.979"
                                },
                                {
                                    "CITY": "Curitiba",
                                    "IDHM": "0,823",
                                    "GVA_PUBLIC_Person": "5.031"
                                },
                                {
                                    "CITY": "Brasília",
                                    "IDHM": "0,824",
                                    "GVA_PUBLIC_Person": "35.815"
                                },
                                {
                                    "CITY": "Joaçaba",
                                    "IDHM": "0,827",
                                    "GVA_PUBLIC_Person": "5.561"
                                },
                                {
                                    "CITY": "Niterói",
                                    "IDHM": "0,837",
                                    "GVA_PUBLIC_Person": "7.542"
                                },
                                {
                                    "CITY": "Santos",
                                    "IDHM": "0,84",
                                    "GVA_PUBLIC_Person": "5.287"
                                },
                                {
                                    "CITY": "Balneário Camboriú",
                                    "IDHM": "0,845",
                                    "GVA_PUBLIC_Person": "7.005"
                                },
                                {
                                    "CITY": "Vitória",
                                    "IDHM": "0,845",
                                    "GVA_PUBLIC_Person": "5.321"
                                },
                                {
                                    "CITY": "Florianópolis",
                                    "IDHM": "0,847",
                                    "GVA_PUBLIC_Person": "5.608"
                                },
                                {
                                    "CITY": "Águas De São Pedro",
                                    "IDHM": "0,854",
                                    "GVA_PUBLIC_Person": "7.466"
                                },
                                {
                                    "CITY": "São Caetano Do Sul",
                                    "IDHM": "0,862",
                                    "GVA_PUBLIC_Person": "6.569"
                                }
                            ]
                        },
                        "text/html": "<table><tr><th>CITY</th><th>IDHM</th><th>GVA_PUBLIC_Person</th></tr><tr><td>Santa Terezinha</td><td>0</td><td>3.382</td></tr><tr><td>São Vicente Do Seridó</td><td>0</td><td>4.406</td></tr><tr><td>Melgaço</td><td>0,418</td><td>4.100</td></tr><tr><td>Fernando Falcão</td><td>0,443</td><td>3.173</td></tr><tr><td>Atalaia Do Norte</td><td>0,45</td><td>5.198</td></tr><tr><td>Marajá Do Sena</td><td>0,452</td><td>2.931</td></tr><tr><td>Chaves</td><td>0,453</td><td>4.017</td></tr><tr><td>Uiramutã</td><td>0,453</td><td>10.422</td></tr><tr><td>Jordão</td><td>0,469</td><td>7.790</td></tr><tr><td>Bagre</td><td>0,471</td><td>3.543</td></tr><tr><td>Cachoeira Do Piriá</td><td>0,473</td><td>3.756</td></tr><tr><td>Itamarati</td><td>0,477</td><td>4.599</td></tr><tr><td>Santa Isabel Do Rio Negro</td><td>0,479</td><td>4.428</td></tr><tr><td>Ipixuna</td><td>0,481</td><td>4.163</td></tr><tr><td>Portel</td><td>0,483</td><td>4.023</td></tr><tr><td>Amajari</td><td>0,484</td><td>10.165</td></tr><tr><td>Anajás</td><td>0,484</td><td>4.040</td></tr><tr><td>Inhapi</td><td>0,484</td><td>3.382</td></tr><tr><td>São Francisco De Assis Do Piauí</td><td>0,485</td><td>4.132</td></tr><tr><td>Itapicuru</td><td>0,486</td><td>3.330</td></tr><tr><td>Manari</td><td>0,487</td><td>4.438</td></tr><tr><td>Caxingó</td><td>0,488</td><td>4.663</td></tr><tr><td>Afuá</td><td>0,489</td><td>3.983</td></tr><tr><td>Betânia Do Piauí</td><td>0,489</td><td>4.258</td></tr><tr><td>Ipixuna Do Pará</td><td>0,489</td><td>3.627</td></tr><tr><td>Jenipapo Dos Vieiras</td><td>0,49</td><td>2.987</td></tr><tr><td>Santo Antônio Do Içá</td><td>0,49</td><td>4.007</td></tr><tr><td>Olivença</td><td>0,493</td><td>3.808</td></tr><tr><td>Satubinha</td><td>0,493</td><td>3.254</td></tr><tr><td>Pauini</td><td>0,496</td><td>4.283</td></tr><tr><td>Cocal</td><td>0,497</td><td>3.914</td></tr><tr><td>Cocal Dos Alves</td><td>0,498</td><td>4.448</td></tr><tr><td>Maraã</td><td>0,498</td><td>4.436</td></tr><tr><td>Assunção Do Piauí</td><td>0,499</td><td>3.997</td></tr><tr><td>Bauru</td><td>0,801</td><td>3.851</td></tr><tr><td>Pirassununga</td><td>0,801</td><td>4.036</td></tr><tr><td>São Miguel Do Oeste</td><td>0,801</td><td>4.667</td></tr><tr><td>Rio Do Sul</td><td>0,802</td><td>4.756</td></tr><tr><td>Jaraguá Do Sul</td><td>0,803</td><td>5.753</td></tr><tr><td>Rio Claro</td><td>0,803</td><td>4.259</td></tr><tr><td>Assis</td><td>0,805</td><td>3.737</td></tr><tr><td>Campinas</td><td>0,805</td><td>4.128</td></tr><tr><td>Porto Alegre</td><td>0,805</td><td>4.763</td></tr><tr><td>São Bernardo Do Campo</td><td>0,805</td><td>3.906</td></tr><tr><td>São Carlos</td><td>0,805</td><td>4.197</td></tr><tr><td>São Paulo</td><td>0,805</td><td>3.724</td></tr><tr><td>Blumenau</td><td>0,806</td><td>4.813</td></tr><tr><td>Presidente Prudente</td><td>0,806</td><td>3.616</td></tr><tr><td>Rio Fortuna</td><td>0,806</td><td>4.891</td></tr><tr><td>São José Dos Campos</td><td>0,807</td><td>4.091</td></tr><tr><td>Maringá</td><td>0,808</td><td>4.837</td></tr><tr><td>Joinville</td><td>0,809</td><td>5.047</td></tr><tr><td>São José</td><td>0,809</td><td>4.701</td></tr><tr><td>Belo Horizonte</td><td>0,81</td><td>4.490</td></tr><tr><td>Americana</td><td>0,811</td><td>4.372</td></tr><tr><td>Ilha Solteira</td><td>0,812</td><td>5.074</td></tr><tr><td>Nova Lima</td><td>0,813</td><td>7.275</td></tr><tr><td>Santana De Parnaíba</td><td>0,814</td><td>6.055</td></tr><tr><td>Araraquara</td><td>0,815</td><td>4.330</td></tr><tr><td>Santo André</td><td>0,815</td><td>3.644</td></tr><tr><td>Vinhedo</td><td>0,817</td><td>5.953</td></tr><tr><td>Valinhos</td><td>0,819</td><td>4.742</td></tr><tr><td>Jundiaí</td><td>0,822</td><td>4.979</td></tr><tr><td>Curitiba</td><td>0,823</td><td>5.031</td></tr><tr><td>Brasília</td><td>0,824</td><td>35.815</td></tr><tr><td>Joaçaba</td><td>0,827</td><td>5.561</td></tr><tr><td>Niterói</td><td>0,837</td><td>7.542</td></tr><tr><td>Santos</td><td>0,84</td><td>5.287</td></tr><tr><td>Balneário Camboriú</td><td>0,845</td><td>7.005</td></tr><tr><td>Vitória</td><td>0,845</td><td>5.321</td></tr><tr><td>Florianópolis</td><td>0,847</td><td>5.608</td></tr><tr><td>Águas De São Pedro</td><td>0,854</td><td>7.466</td></tr><tr><td>São Caetano Do Sul</td><td>0,862</td><td>6.569</td></tr></table>"
                    },
                    "metadata": {
                        "azdata_chartOptions": {
                            "type": "bar",
                            "dataDirection": "vertical",
                            "columnsAsLabels": true,
                            "labelFirstColumn": true,
                            "legendPosition": "top"
                        }
                    }
                }
            ],
            "execution_count": 16
        },
        {
            "cell_type": "markdown",
            "source": [
                "## Gráfico de GVA Agropecuário por pessoa das Cidades com maiores e menores IDHM"
            ],
            "metadata": {
                "language": "sql",
                "azdata_cell_guid": "ea72c987-35d0-4a3a-a060-3da0796cb166"
            },
            "attachments": {}
        },
        {
            "cell_type": "code",
            "source": [
                "select DISTINCT [CITY]\r\n",
                "      , [IDHM]\r\n",
                "      , CAST (GVA_AGROPEC/IBGE_RES_POP as numeric (10,3)) as GVA_agropec_Person\r\n",
                "FROM [dbo].[Tabela_MVP_04]\r\n",
                "WHERE [IDHM] > 0.80\r\n",
                "or [IDHM] < 0.50\r\n",
                "AND IBGE_RES_POP >0\r\n",
                "ORDER BY [IDHM]"
            ],
            "metadata": {
                "language": "sql",
                "azdata_cell_guid": "421d61e1-703d-4cf1-8a2a-34de654bd969",
                "tags": []
            },
            "outputs": [
                {
                    "output_type": "display_data",
                    "data": {
                        "text/html": "(73 rows affected)"
                    },
                    "metadata": {}
                },
                {
                    "output_type": "display_data",
                    "data": {
                        "text/html": "Total execution time: 00:00:00.180"
                    },
                    "metadata": {}
                },
                {
                    "output_type": "execute_result",
                    "execution_count": 15,
                    "data": {
                        "application/vnd.dataresource+json": {
                            "schema": {
                                "fields": [
                                    {
                                        "name": "CITY"
                                    },
                                    {
                                        "name": "IDHM"
                                    },
                                    {
                                        "name": "GVA_agropec_Person"
                                    }
                                ]
                            },
                            "data": [
                                {
                                    "CITY": "Santa Terezinha",
                                    "IDHM": "0",
                                    "GVA_agropec_Person": "1.372"
                                },
                                {
                                    "CITY": "São Vicente Do Seridó",
                                    "IDHM": "0",
                                    "GVA_agropec_Person": "0.211"
                                },
                                {
                                    "CITY": "Melgaço",
                                    "IDHM": "0,418",
                                    "GVA_agropec_Person": "1.667"
                                },
                                {
                                    "CITY": "Fernando Falcão",
                                    "IDHM": "0,443",
                                    "GVA_agropec_Person": "0.959"
                                },
                                {
                                    "CITY": "Atalaia Do Norte",
                                    "IDHM": "0,45",
                                    "GVA_agropec_Person": "4.123"
                                },
                                {
                                    "CITY": "Marajá Do Sena",
                                    "IDHM": "0,452",
                                    "GVA_agropec_Person": "1.882"
                                },
                                {
                                    "CITY": "Chaves",
                                    "IDHM": "0,453",
                                    "GVA_agropec_Person": "3.358"
                                },
                                {
                                    "CITY": "Uiramutã",
                                    "IDHM": "0,453",
                                    "GVA_agropec_Person": "1.178"
                                },
                                {
                                    "CITY": "Jordão",
                                    "IDHM": "0,469",
                                    "GVA_agropec_Person": "1.822"
                                },
                                {
                                    "CITY": "Bagre",
                                    "IDHM": "0,471",
                                    "GVA_agropec_Person": "2.251"
                                },
                                {
                                    "CITY": "Cachoeira Do Piriá",
                                    "IDHM": "0,473",
                                    "GVA_agropec_Person": "1.337"
                                },
                                {
                                    "CITY": "Itamarati",
                                    "IDHM": "0,477",
                                    "GVA_agropec_Person": "3.525"
                                },
                                {
                                    "CITY": "Santa Isabel Do Rio Negro",
                                    "IDHM": "0,479",
                                    "GVA_agropec_Person": "1.621"
                                },
                                {
                                    "CITY": "Ipixuna",
                                    "IDHM": "0,481",
                                    "GVA_agropec_Person": "0.509"
                                },
                                {
                                    "CITY": "Portel",
                                    "IDHM": "0,483",
                                    "GVA_agropec_Person": "6.350"
                                },
                                {
                                    "CITY": "Amajari",
                                    "IDHM": "0,484",
                                    "GVA_agropec_Person": "3.500"
                                },
                                {
                                    "CITY": "Anajás",
                                    "IDHM": "0,484",
                                    "GVA_agropec_Person": "1.624"
                                },
                                {
                                    "CITY": "Inhapi",
                                    "IDHM": "0,484",
                                    "GVA_agropec_Person": "0.281"
                                },
                                {
                                    "CITY": "São Francisco De Assis Do Piauí",
                                    "IDHM": "0,485",
                                    "GVA_agropec_Person": "0.450"
                                },
                                {
                                    "CITY": "Itapicuru",
                                    "IDHM": "0,486",
                                    "GVA_agropec_Person": "4.804"
                                },
                                {
                                    "CITY": "Manari",
                                    "IDHM": "0,487",
                                    "GVA_agropec_Person": "0.282"
                                },
                                {
                                    "CITY": "Caxingó",
                                    "IDHM": "0,488",
                                    "GVA_agropec_Person": "1.178"
                                },
                                {
                                    "CITY": "Afuá",
                                    "IDHM": "0,489",
                                    "GVA_agropec_Person": "3.081"
                                },
                                {
                                    "CITY": "Betânia Do Piauí",
                                    "IDHM": "0,489",
                                    "GVA_agropec_Person": "0.645"
                                },
                                {
                                    "CITY": "Ipixuna Do Pará",
                                    "IDHM": "0,489",
                                    "GVA_agropec_Person": "2.069"
                                },
                                {
                                    "CITY": "Jenipapo Dos Vieiras",
                                    "IDHM": "0,49",
                                    "GVA_agropec_Person": "1.342"
                                },
                                {
                                    "CITY": "Santo Antônio Do Içá",
                                    "IDHM": "0,49",
                                    "GVA_agropec_Person": "1.234"
                                },
                                {
                                    "CITY": "Olivença",
                                    "IDHM": "0,493",
                                    "GVA_agropec_Person": "0.690"
                                },
                                {
                                    "CITY": "Satubinha",
                                    "IDHM": "0,493",
                                    "GVA_agropec_Person": "0.786"
                                },
                                {
                                    "CITY": "Pauini",
                                    "IDHM": "0,496",
                                    "GVA_agropec_Person": "2.005"
                                },
                                {
                                    "CITY": "Cocal",
                                    "IDHM": "0,497",
                                    "GVA_agropec_Person": "0.595"
                                },
                                {
                                    "CITY": "Cocal Dos Alves",
                                    "IDHM": "0,498",
                                    "GVA_agropec_Person": "0.611"
                                },
                                {
                                    "CITY": "Maraã",
                                    "IDHM": "0,498",
                                    "GVA_agropec_Person": "2.435"
                                },
                                {
                                    "CITY": "Assunção Do Piauí",
                                    "IDHM": "0,499",
                                    "GVA_agropec_Person": "0.520"
                                },
                                {
                                    "CITY": "Bauru",
                                    "IDHM": "0,801",
                                    "GVA_agropec_Person": "0.103"
                                },
                                {
                                    "CITY": "Pirassununga",
                                    "IDHM": "0,801",
                                    "GVA_agropec_Person": "1.219"
                                },
                                {
                                    "CITY": "São Miguel Do Oeste",
                                    "IDHM": "0,801",
                                    "GVA_agropec_Person": "2.073"
                                },
                                {
                                    "CITY": "Rio Do Sul",
                                    "IDHM": "0,802",
                                    "GVA_agropec_Person": "0.309"
                                },
                                {
                                    "CITY": "Jaraguá Do Sul",
                                    "IDHM": "0,803",
                                    "GVA_agropec_Person": "0.288"
                                },
                                {
                                    "CITY": "Rio Claro",
                                    "IDHM": "0,803",
                                    "GVA_agropec_Person": "0.384"
                                },
                                {
                                    "CITY": "Assis",
                                    "IDHM": "0,805",
                                    "GVA_agropec_Person": "0.583"
                                },
                                {
                                    "CITY": "Campinas",
                                    "IDHM": "0,805",
                                    "GVA_agropec_Person": "0.110"
                                },
                                {
                                    "CITY": "Porto Alegre",
                                    "IDHM": "0,805",
                                    "GVA_agropec_Person": "0.020"
                                },
                                {
                                    "CITY": "São Bernardo Do Campo",
                                    "IDHM": "0,805",
                                    "GVA_agropec_Person": "0.011"
                                },
                                {
                                    "CITY": "São Carlos",
                                    "IDHM": "0,805",
                                    "GVA_agropec_Person": "0.686"
                                },
                                {
                                    "CITY": "São Paulo",
                                    "IDHM": "0,805",
                                    "GVA_agropec_Person": "0.004"
                                },
                                {
                                    "CITY": "Blumenau",
                                    "IDHM": "0,806",
                                    "GVA_agropec_Person": "0.179"
                                },
                                {
                                    "CITY": "Presidente Prudente",
                                    "IDHM": "0,806",
                                    "GVA_agropec_Person": "0.171"
                                },
                                {
                                    "CITY": "Rio Fortuna",
                                    "IDHM": "0,806",
                                    "GVA_agropec_Person": "11.278"
                                },
                                {
                                    "CITY": "São José Dos Campos",
                                    "IDHM": "0,807",
                                    "GVA_agropec_Person": "0.027"
                                },
                                {
                                    "CITY": "Maringá",
                                    "IDHM": "0,808",
                                    "GVA_agropec_Person": "0.248"
                                },
                                {
                                    "CITY": "Joinville",
                                    "IDHM": "0,809",
                                    "GVA_agropec_Person": "0.162"
                                },
                                {
                                    "CITY": "São José",
                                    "IDHM": "0,809",
                                    "GVA_agropec_Person": "0.039"
                                },
                                {
                                    "CITY": "Belo Horizonte",
                                    "IDHM": "0,81",
                                    "GVA_agropec_Person": "0.001"
                                },
                                {
                                    "CITY": "Americana",
                                    "IDHM": "0,811",
                                    "GVA_agropec_Person": "0.051"
                                },
                                {
                                    "CITY": "Ilha Solteira",
                                    "IDHM": "0,812",
                                    "GVA_agropec_Person": "2.411"
                                },
                                {
                                    "CITY": "Nova Lima",
                                    "IDHM": "0,813",
                                    "GVA_agropec_Person": "0.008"
                                },
                                {
                                    "CITY": "Santana De Parnaíba",
                                    "IDHM": "0,814",
                                    "GVA_agropec_Person": "0.870"
                                },
                                {
                                    "CITY": "Araraquara",
                                    "IDHM": "0,815",
                                    "GVA_agropec_Person": "0.522"
                                },
                                {
                                    "CITY": "Santo André",
                                    "IDHM": "0,815",
                                    "GVA_agropec_Person": "0.001"
                                },
                                {
                                    "CITY": "Vinhedo",
                                    "IDHM": "0,817",
                                    "GVA_agropec_Person": "0.175"
                                },
                                {
                                    "CITY": "Valinhos",
                                    "IDHM": "0,819",
                                    "GVA_agropec_Person": "0.367"
                                },
                                {
                                    "CITY": "Jundiaí",
                                    "IDHM": "0,822",
                                    "GVA_agropec_Person": "0.353"
                                },
                                {
                                    "CITY": "Curitiba",
                                    "IDHM": "0,823",
                                    "GVA_agropec_Person": "0.006"
                                },
                                {
                                    "CITY": "Brasília",
                                    "IDHM": "0,824",
                                    "GVA_agropec_Person": "0.319"
                                },
                                {
                                    "CITY": "Joaçaba",
                                    "IDHM": "0,827",
                                    "GVA_agropec_Person": "1.790"
                                },
                                {
                                    "CITY": "Niterói",
                                    "IDHM": "0,837",
                                    "GVA_agropec_Person": "0.036"
                                },
                                {
                                    "CITY": "Santos",
                                    "IDHM": "0,84",
                                    "GVA_agropec_Person": "0.008"
                                },
                                {
                                    "CITY": "Balneário Camboriú",
                                    "IDHM": "0,845",
                                    "GVA_agropec_Person": "0.070"
                                },
                                {
                                    "CITY": "Vitória",
                                    "IDHM": "0,845",
                                    "GVA_agropec_Person": "0.044"
                                },
                                {
                                    "CITY": "Florianópolis",
                                    "IDHM": "0,847",
                                    "GVA_agropec_Person": "0.107"
                                },
                                {
                                    "CITY": "Águas De São Pedro",
                                    "IDHM": "0,854",
                                    "GVA_agropec_Person": "0.000"
                                },
                                {
                                    "CITY": "São Caetano Do Sul",
                                    "IDHM": "0,862",
                                    "GVA_agropec_Person": "0.000"
                                }
                            ]
                        },
                        "text/html": "<table><tr><th>CITY</th><th>IDHM</th><th>GVA_agropec_Person</th></tr><tr><td>Santa Terezinha</td><td>0</td><td>1.372</td></tr><tr><td>São Vicente Do Seridó</td><td>0</td><td>0.211</td></tr><tr><td>Melgaço</td><td>0,418</td><td>1.667</td></tr><tr><td>Fernando Falcão</td><td>0,443</td><td>0.959</td></tr><tr><td>Atalaia Do Norte</td><td>0,45</td><td>4.123</td></tr><tr><td>Marajá Do Sena</td><td>0,452</td><td>1.882</td></tr><tr><td>Chaves</td><td>0,453</td><td>3.358</td></tr><tr><td>Uiramutã</td><td>0,453</td><td>1.178</td></tr><tr><td>Jordão</td><td>0,469</td><td>1.822</td></tr><tr><td>Bagre</td><td>0,471</td><td>2.251</td></tr><tr><td>Cachoeira Do Piriá</td><td>0,473</td><td>1.337</td></tr><tr><td>Itamarati</td><td>0,477</td><td>3.525</td></tr><tr><td>Santa Isabel Do Rio Negro</td><td>0,479</td><td>1.621</td></tr><tr><td>Ipixuna</td><td>0,481</td><td>0.509</td></tr><tr><td>Portel</td><td>0,483</td><td>6.350</td></tr><tr><td>Amajari</td><td>0,484</td><td>3.500</td></tr><tr><td>Anajás</td><td>0,484</td><td>1.624</td></tr><tr><td>Inhapi</td><td>0,484</td><td>0.281</td></tr><tr><td>São Francisco De Assis Do Piauí</td><td>0,485</td><td>0.450</td></tr><tr><td>Itapicuru</td><td>0,486</td><td>4.804</td></tr><tr><td>Manari</td><td>0,487</td><td>0.282</td></tr><tr><td>Caxingó</td><td>0,488</td><td>1.178</td></tr><tr><td>Afuá</td><td>0,489</td><td>3.081</td></tr><tr><td>Betânia Do Piauí</td><td>0,489</td><td>0.645</td></tr><tr><td>Ipixuna Do Pará</td><td>0,489</td><td>2.069</td></tr><tr><td>Jenipapo Dos Vieiras</td><td>0,49</td><td>1.342</td></tr><tr><td>Santo Antônio Do Içá</td><td>0,49</td><td>1.234</td></tr><tr><td>Olivença</td><td>0,493</td><td>0.690</td></tr><tr><td>Satubinha</td><td>0,493</td><td>0.786</td></tr><tr><td>Pauini</td><td>0,496</td><td>2.005</td></tr><tr><td>Cocal</td><td>0,497</td><td>0.595</td></tr><tr><td>Cocal Dos Alves</td><td>0,498</td><td>0.611</td></tr><tr><td>Maraã</td><td>0,498</td><td>2.435</td></tr><tr><td>Assunção Do Piauí</td><td>0,499</td><td>0.520</td></tr><tr><td>Bauru</td><td>0,801</td><td>0.103</td></tr><tr><td>Pirassununga</td><td>0,801</td><td>1.219</td></tr><tr><td>São Miguel Do Oeste</td><td>0,801</td><td>2.073</td></tr><tr><td>Rio Do Sul</td><td>0,802</td><td>0.309</td></tr><tr><td>Jaraguá Do Sul</td><td>0,803</td><td>0.288</td></tr><tr><td>Rio Claro</td><td>0,803</td><td>0.384</td></tr><tr><td>Assis</td><td>0,805</td><td>0.583</td></tr><tr><td>Campinas</td><td>0,805</td><td>0.110</td></tr><tr><td>Porto Alegre</td><td>0,805</td><td>0.020</td></tr><tr><td>São Bernardo Do Campo</td><td>0,805</td><td>0.011</td></tr><tr><td>São Carlos</td><td>0,805</td><td>0.686</td></tr><tr><td>São Paulo</td><td>0,805</td><td>0.004</td></tr><tr><td>Blumenau</td><td>0,806</td><td>0.179</td></tr><tr><td>Presidente Prudente</td><td>0,806</td><td>0.171</td></tr><tr><td>Rio Fortuna</td><td>0,806</td><td>11.278</td></tr><tr><td>São José Dos Campos</td><td>0,807</td><td>0.027</td></tr><tr><td>Maringá</td><td>0,808</td><td>0.248</td></tr><tr><td>Joinville</td><td>0,809</td><td>0.162</td></tr><tr><td>São José</td><td>0,809</td><td>0.039</td></tr><tr><td>Belo Horizonte</td><td>0,81</td><td>0.001</td></tr><tr><td>Americana</td><td>0,811</td><td>0.051</td></tr><tr><td>Ilha Solteira</td><td>0,812</td><td>2.411</td></tr><tr><td>Nova Lima</td><td>0,813</td><td>0.008</td></tr><tr><td>Santana De Parnaíba</td><td>0,814</td><td>0.870</td></tr><tr><td>Araraquara</td><td>0,815</td><td>0.522</td></tr><tr><td>Santo André</td><td>0,815</td><td>0.001</td></tr><tr><td>Vinhedo</td><td>0,817</td><td>0.175</td></tr><tr><td>Valinhos</td><td>0,819</td><td>0.367</td></tr><tr><td>Jundiaí</td><td>0,822</td><td>0.353</td></tr><tr><td>Curitiba</td><td>0,823</td><td>0.006</td></tr><tr><td>Brasília</td><td>0,824</td><td>0.319</td></tr><tr><td>Joaçaba</td><td>0,827</td><td>1.790</td></tr><tr><td>Niterói</td><td>0,837</td><td>0.036</td></tr><tr><td>Santos</td><td>0,84</td><td>0.008</td></tr><tr><td>Balneário Camboriú</td><td>0,845</td><td>0.070</td></tr><tr><td>Vitória</td><td>0,845</td><td>0.044</td></tr><tr><td>Florianópolis</td><td>0,847</td><td>0.107</td></tr><tr><td>Águas De São Pedro</td><td>0,854</td><td>0.000</td></tr><tr><td>São Caetano Do Sul</td><td>0,862</td><td>0.000</td></tr></table>"
                    },
                    "metadata": {
                        "azdata_chartOptions": {
                            "type": "bar",
                            "dataDirection": "vertical",
                            "columnsAsLabels": true,
                            "labelFirstColumn": true,
                            "legendPosition": "top"
                        }
                    }
                }
            ],
            "execution_count": 15
        },
        {
            "cell_type": "markdown",
            "source": [
                "## Gráfico de GVA de Industrias por pessoas nas cidades com maiores e menores IDHM"
            ],
            "metadata": {
                "language": "sql",
                "azdata_cell_guid": "ca22f932-dda9-4f38-ac97-f7b98e8d8026"
            },
            "attachments": {}
        },
        {
            "cell_type": "code",
            "source": [
                "select DISTINCT [CITY]\r\n",
                "      , [IDHM]\r\n",
                "      , CAST (GVA_INDUSTRY/IBGE_RES_POP as numeric (10,3)) as GVA_INDUSTRY_Person\r\n",
                "FROM [dbo].[Tabela_MVP_04]\r\n",
                "WHERE [IDHM] > 0.80\r\n",
                "or [IDHM] < 0.50\r\n",
                "AND IBGE_RES_POP >0\r\n",
                "ORDER BY [IDHM]"
            ],
            "metadata": {
                "language": "sql",
                "azdata_cell_guid": "645f0192-bdf0-4e66-9ed5-ffa2c8e9f5e5"
            },
            "outputs": [
                {
                    "output_type": "display_data",
                    "data": {
                        "text/html": "(73 rows affected)"
                    },
                    "metadata": {}
                },
                {
                    "output_type": "display_data",
                    "data": {
                        "text/html": "Total execution time: 00:00:00.235"
                    },
                    "metadata": {}
                },
                {
                    "output_type": "execute_result",
                    "execution_count": 17,
                    "data": {
                        "application/vnd.dataresource+json": {
                            "schema": {
                                "fields": [
                                    {
                                        "name": "CITY"
                                    },
                                    {
                                        "name": "IDHM"
                                    },
                                    {
                                        "name": "GVA_INDUSTRY_Person"
                                    }
                                ]
                            },
                            "data": [
                                {
                                    "CITY": "Santa Terezinha",
                                    "IDHM": "0",
                                    "GVA_INDUSTRY_Person": "0.560"
                                },
                                {
                                    "CITY": "São Vicente Do Seridó",
                                    "IDHM": "0",
                                    "GVA_INDUSTRY_Person": "0.172"
                                },
                                {
                                    "CITY": "Melgaço",
                                    "IDHM": "0,418",
                                    "GVA_INDUSTRY_Person": "0.221"
                                },
                                {
                                    "CITY": "Fernando Falcão",
                                    "IDHM": "0,443",
                                    "GVA_INDUSTRY_Person": "0.197"
                                },
                                {
                                    "CITY": "Atalaia Do Norte",
                                    "IDHM": "0,45",
                                    "GVA_INDUSTRY_Person": "0.347"
                                },
                                {
                                    "CITY": "Marajá Do Sena",
                                    "IDHM": "0,452",
                                    "GVA_INDUSTRY_Person": "0.232"
                                },
                                {
                                    "CITY": "Chaves",
                                    "IDHM": "0,453",
                                    "GVA_INDUSTRY_Person": "0.267"
                                },
                                {
                                    "CITY": "Uiramutã",
                                    "IDHM": "0,453",
                                    "GVA_INDUSTRY_Person": "0.142"
                                },
                                {
                                    "CITY": "Jordão",
                                    "IDHM": "0,469",
                                    "GVA_INDUSTRY_Person": "0.235"
                                },
                                {
                                    "CITY": "Bagre",
                                    "IDHM": "0,471",
                                    "GVA_INDUSTRY_Person": "0.226"
                                },
                                {
                                    "CITY": "Cachoeira Do Piriá",
                                    "IDHM": "0,473",
                                    "GVA_INDUSTRY_Person": "0.213"
                                },
                                {
                                    "CITY": "Itamarati",
                                    "IDHM": "0,477",
                                    "GVA_INDUSTRY_Person": "0.419"
                                },
                                {
                                    "CITY": "Santa Isabel Do Rio Negro",
                                    "IDHM": "0,479",
                                    "GVA_INDUSTRY_Person": "0.156"
                                },
                                {
                                    "CITY": "Ipixuna",
                                    "IDHM": "0,481",
                                    "GVA_INDUSTRY_Person": "0.123"
                                },
                                {
                                    "CITY": "Portel",
                                    "IDHM": "0,483",
                                    "GVA_INDUSTRY_Person": "0.651"
                                },
                                {
                                    "CITY": "Amajari",
                                    "IDHM": "0,484",
                                    "GVA_INDUSTRY_Person": "0.151"
                                },
                                {
                                    "CITY": "Anajás",
                                    "IDHM": "0,484",
                                    "GVA_INDUSTRY_Person": "0.454"
                                },
                                {
                                    "CITY": "Inhapi",
                                    "IDHM": "0,484",
                                    "GVA_INDUSTRY_Person": "0.141"
                                },
                                {
                                    "CITY": "São Francisco De Assis Do Piauí",
                                    "IDHM": "0,485",
                                    "GVA_INDUSTRY_Person": "0.270"
                                },
                                {
                                    "CITY": "Itapicuru",
                                    "IDHM": "0,486",
                                    "GVA_INDUSTRY_Person": "0.872"
                                },
                                {
                                    "CITY": "Manari",
                                    "IDHM": "0,487",
                                    "GVA_INDUSTRY_Person": "0.144"
                                },
                                {
                                    "CITY": "Caxingó",
                                    "IDHM": "0,488",
                                    "GVA_INDUSTRY_Person": "0.307"
                                },
                                {
                                    "CITY": "Afuá",
                                    "IDHM": "0,489",
                                    "GVA_INDUSTRY_Person": "0.513"
                                },
                                {
                                    "CITY": "Betânia Do Piauí",
                                    "IDHM": "0,489",
                                    "GVA_INDUSTRY_Person": "0.228"
                                },
                                {
                                    "CITY": "Ipixuna Do Pará",
                                    "IDHM": "0,489",
                                    "GVA_INDUSTRY_Person": "1.793"
                                },
                                {
                                    "CITY": "Jenipapo Dos Vieiras",
                                    "IDHM": "0,49",
                                    "GVA_INDUSTRY_Person": "0.187"
                                },
                                {
                                    "CITY": "Santo Antônio Do Içá",
                                    "IDHM": "0,49",
                                    "GVA_INDUSTRY_Person": "0.190"
                                },
                                {
                                    "CITY": "Olivença",
                                    "IDHM": "0,493",
                                    "GVA_INDUSTRY_Person": "0.152"
                                },
                                {
                                    "CITY": "Satubinha",
                                    "IDHM": "0,493",
                                    "GVA_INDUSTRY_Person": "0.187"
                                },
                                {
                                    "CITY": "Pauini",
                                    "IDHM": "0,496",
                                    "GVA_INDUSTRY_Person": "0.216"
                                },
                                {
                                    "CITY": "Cocal",
                                    "IDHM": "0,497",
                                    "GVA_INDUSTRY_Person": "0.299"
                                },
                                {
                                    "CITY": "Cocal Dos Alves",
                                    "IDHM": "0,498",
                                    "GVA_INDUSTRY_Person": "0.248"
                                },
                                {
                                    "CITY": "Maraã",
                                    "IDHM": "0,498",
                                    "GVA_INDUSTRY_Person": "0.257"
                                },
                                {
                                    "CITY": "Assunção Do Piauí",
                                    "IDHM": "0,499",
                                    "GVA_INDUSTRY_Person": "0.156"
                                },
                                {
                                    "CITY": "Bauru",
                                    "IDHM": "0,801",
                                    "GVA_INDUSTRY_Person": "7.000"
                                },
                                {
                                    "CITY": "Pirassununga",
                                    "IDHM": "0,801",
                                    "GVA_INDUSTRY_Person": "6.709"
                                },
                                {
                                    "CITY": "São Miguel Do Oeste",
                                    "IDHM": "0,801",
                                    "GVA_INDUSTRY_Person": "8.627"
                                },
                                {
                                    "CITY": "Rio Do Sul",
                                    "IDHM": "0,802",
                                    "GVA_INDUSTRY_Person": "8.437"
                                },
                                {
                                    "CITY": "Jaraguá Do Sul",
                                    "IDHM": "0,803",
                                    "GVA_INDUSTRY_Person": "20.220"
                                },
                                {
                                    "CITY": "Rio Claro",
                                    "IDHM": "0,803",
                                    "GVA_INDUSTRY_Person": "15.927"
                                },
                                {
                                    "CITY": "Assis",
                                    "IDHM": "0,805",
                                    "GVA_INDUSTRY_Person": "3.414"
                                },
                                {
                                    "CITY": "Campinas",
                                    "IDHM": "0,805",
                                    "GVA_INDUSTRY_Person": "9.534"
                                },
                                {
                                    "CITY": "Porto Alegre",
                                    "IDHM": "0,805",
                                    "GVA_INDUSTRY_Person": "4.802"
                                },
                                {
                                    "CITY": "São Bernardo Do Campo",
                                    "IDHM": "0,805",
                                    "GVA_INDUSTRY_Person": "10.744"
                                },
                                {
                                    "CITY": "São Carlos",
                                    "IDHM": "0,805",
                                    "GVA_INDUSTRY_Person": "13.832"
                                },
                                {
                                    "CITY": "São Paulo",
                                    "IDHM": "0,805",
                                    "GVA_INDUSTRY_Person": "5.626"
                                },
                                {
                                    "CITY": "Blumenau",
                                    "IDHM": "0,806",
                                    "GVA_INDUSTRY_Person": "12.964"
                                },
                                {
                                    "CITY": "Presidente Prudente",
                                    "IDHM": "0,806",
                                    "GVA_INDUSTRY_Person": "5.504"
                                },
                                {
                                    "CITY": "Rio Fortuna",
                                    "IDHM": "0,806",
                                    "GVA_INDUSTRY_Person": "24.126"
                                },
                                {
                                    "CITY": "São José Dos Campos",
                                    "IDHM": "0,807",
                                    "GVA_INDUSTRY_Person": "20.900"
                                },
                                {
                                    "CITY": "Maringá",
                                    "IDHM": "0,808",
                                    "GVA_INDUSTRY_Person": "8.274"
                                },
                                {
                                    "CITY": "Joinville",
                                    "IDHM": "0,809",
                                    "GVA_INDUSTRY_Person": "13.305"
                                },
                                {
                                    "CITY": "São José",
                                    "IDHM": "0,809",
                                    "GVA_INDUSTRY_Person": "6.763"
                                },
                                {
                                    "CITY": "Belo Horizonte",
                                    "IDHM": "0,81",
                                    "GVA_INDUSTRY_Person": "5.011"
                                },
                                {
                                    "CITY": "Americana",
                                    "IDHM": "0,811",
                                    "GVA_INDUSTRY_Person": "11.614"
                                },
                                {
                                    "CITY": "Ilha Solteira",
                                    "IDHM": "0,812",
                                    "GVA_INDUSTRY_Person": "0.867"
                                },
                                {
                                    "CITY": "Nova Lima",
                                    "IDHM": "0,813",
                                    "GVA_INDUSTRY_Person": "43.039"
                                },
                                {
                                    "CITY": "Santana De Parnaíba",
                                    "IDHM": "0,814",
                                    "GVA_INDUSTRY_Person": "16.020"
                                },
                                {
                                    "CITY": "Araraquara",
                                    "IDHM": "0,815",
                                    "GVA_INDUSTRY_Person": "7.565"
                                },
                                {
                                    "CITY": "Santo André",
                                    "IDHM": "0,815",
                                    "GVA_INDUSTRY_Person": "6.397"
                                },
                                {
                                    "CITY": "Vinhedo",
                                    "IDHM": "0,817",
                                    "GVA_INDUSTRY_Person": "31.441"
                                },
                                {
                                    "CITY": "Valinhos",
                                    "IDHM": "0,819",
                                    "GVA_INDUSTRY_Person": "10.430"
                                },
                                {
                                    "CITY": "Jundiaí",
                                    "IDHM": "0,822",
                                    "GVA_INDUSTRY_Person": "20.020"
                                },
                                {
                                    "CITY": "Curitiba",
                                    "IDHM": "0,823",
                                    "GVA_INDUSTRY_Person": "7.308"
                                },
                                {
                                    "CITY": "Brasília",
                                    "IDHM": "0,824",
                                    "GVA_INDUSTRY_Person": "3.758"
                                },
                                {
                                    "CITY": "Joaçaba",
                                    "IDHM": "0,827",
                                    "GVA_INDUSTRY_Person": "10.642"
                                },
                                {
                                    "CITY": "Niterói",
                                    "IDHM": "0,837",
                                    "GVA_INDUSTRY_Person": "9.007"
                                },
                                {
                                    "CITY": "Santos",
                                    "IDHM": "0,84",
                                    "GVA_INDUSTRY_Person": "4.620"
                                },
                                {
                                    "CITY": "Balneário Camboriú",
                                    "IDHM": "0,845",
                                    "GVA_INDUSTRY_Person": "6.211"
                                },
                                {
                                    "CITY": "Vitória",
                                    "IDHM": "0,845",
                                    "GVA_INDUSTRY_Person": "9.839"
                                },
                                {
                                    "CITY": "Florianópolis",
                                    "IDHM": "0,847",
                                    "GVA_INDUSTRY_Person": "3.967"
                                },
                                {
                                    "CITY": "Águas De São Pedro",
                                    "IDHM": "0,854",
                                    "GVA_INDUSTRY_Person": "3.881"
                                },
                                {
                                    "CITY": "São Caetano Do Sul",
                                    "IDHM": "0,862",
                                    "GVA_INDUSTRY_Person": "19.766"
                                }
                            ]
                        },
                        "text/html": "<table><tr><th>CITY</th><th>IDHM</th><th>GVA_INDUSTRY_Person</th></tr><tr><td>Santa Terezinha</td><td>0</td><td>0.560</td></tr><tr><td>São Vicente Do Seridó</td><td>0</td><td>0.172</td></tr><tr><td>Melgaço</td><td>0,418</td><td>0.221</td></tr><tr><td>Fernando Falcão</td><td>0,443</td><td>0.197</td></tr><tr><td>Atalaia Do Norte</td><td>0,45</td><td>0.347</td></tr><tr><td>Marajá Do Sena</td><td>0,452</td><td>0.232</td></tr><tr><td>Chaves</td><td>0,453</td><td>0.267</td></tr><tr><td>Uiramutã</td><td>0,453</td><td>0.142</td></tr><tr><td>Jordão</td><td>0,469</td><td>0.235</td></tr><tr><td>Bagre</td><td>0,471</td><td>0.226</td></tr><tr><td>Cachoeira Do Piriá</td><td>0,473</td><td>0.213</td></tr><tr><td>Itamarati</td><td>0,477</td><td>0.419</td></tr><tr><td>Santa Isabel Do Rio Negro</td><td>0,479</td><td>0.156</td></tr><tr><td>Ipixuna</td><td>0,481</td><td>0.123</td></tr><tr><td>Portel</td><td>0,483</td><td>0.651</td></tr><tr><td>Amajari</td><td>0,484</td><td>0.151</td></tr><tr><td>Anajás</td><td>0,484</td><td>0.454</td></tr><tr><td>Inhapi</td><td>0,484</td><td>0.141</td></tr><tr><td>São Francisco De Assis Do Piauí</td><td>0,485</td><td>0.270</td></tr><tr><td>Itapicuru</td><td>0,486</td><td>0.872</td></tr><tr><td>Manari</td><td>0,487</td><td>0.144</td></tr><tr><td>Caxingó</td><td>0,488</td><td>0.307</td></tr><tr><td>Afuá</td><td>0,489</td><td>0.513</td></tr><tr><td>Betânia Do Piauí</td><td>0,489</td><td>0.228</td></tr><tr><td>Ipixuna Do Pará</td><td>0,489</td><td>1.793</td></tr><tr><td>Jenipapo Dos Vieiras</td><td>0,49</td><td>0.187</td></tr><tr><td>Santo Antônio Do Içá</td><td>0,49</td><td>0.190</td></tr><tr><td>Olivença</td><td>0,493</td><td>0.152</td></tr><tr><td>Satubinha</td><td>0,493</td><td>0.187</td></tr><tr><td>Pauini</td><td>0,496</td><td>0.216</td></tr><tr><td>Cocal</td><td>0,497</td><td>0.299</td></tr><tr><td>Cocal Dos Alves</td><td>0,498</td><td>0.248</td></tr><tr><td>Maraã</td><td>0,498</td><td>0.257</td></tr><tr><td>Assunção Do Piauí</td><td>0,499</td><td>0.156</td></tr><tr><td>Bauru</td><td>0,801</td><td>7.000</td></tr><tr><td>Pirassununga</td><td>0,801</td><td>6.709</td></tr><tr><td>São Miguel Do Oeste</td><td>0,801</td><td>8.627</td></tr><tr><td>Rio Do Sul</td><td>0,802</td><td>8.437</td></tr><tr><td>Jaraguá Do Sul</td><td>0,803</td><td>20.220</td></tr><tr><td>Rio Claro</td><td>0,803</td><td>15.927</td></tr><tr><td>Assis</td><td>0,805</td><td>3.414</td></tr><tr><td>Campinas</td><td>0,805</td><td>9.534</td></tr><tr><td>Porto Alegre</td><td>0,805</td><td>4.802</td></tr><tr><td>São Bernardo Do Campo</td><td>0,805</td><td>10.744</td></tr><tr><td>São Carlos</td><td>0,805</td><td>13.832</td></tr><tr><td>São Paulo</td><td>0,805</td><td>5.626</td></tr><tr><td>Blumenau</td><td>0,806</td><td>12.964</td></tr><tr><td>Presidente Prudente</td><td>0,806</td><td>5.504</td></tr><tr><td>Rio Fortuna</td><td>0,806</td><td>24.126</td></tr><tr><td>São José Dos Campos</td><td>0,807</td><td>20.900</td></tr><tr><td>Maringá</td><td>0,808</td><td>8.274</td></tr><tr><td>Joinville</td><td>0,809</td><td>13.305</td></tr><tr><td>São José</td><td>0,809</td><td>6.763</td></tr><tr><td>Belo Horizonte</td><td>0,81</td><td>5.011</td></tr><tr><td>Americana</td><td>0,811</td><td>11.614</td></tr><tr><td>Ilha Solteira</td><td>0,812</td><td>0.867</td></tr><tr><td>Nova Lima</td><td>0,813</td><td>43.039</td></tr><tr><td>Santana De Parnaíba</td><td>0,814</td><td>16.020</td></tr><tr><td>Araraquara</td><td>0,815</td><td>7.565</td></tr><tr><td>Santo André</td><td>0,815</td><td>6.397</td></tr><tr><td>Vinhedo</td><td>0,817</td><td>31.441</td></tr><tr><td>Valinhos</td><td>0,819</td><td>10.430</td></tr><tr><td>Jundiaí</td><td>0,822</td><td>20.020</td></tr><tr><td>Curitiba</td><td>0,823</td><td>7.308</td></tr><tr><td>Brasília</td><td>0,824</td><td>3.758</td></tr><tr><td>Joaçaba</td><td>0,827</td><td>10.642</td></tr><tr><td>Niterói</td><td>0,837</td><td>9.007</td></tr><tr><td>Santos</td><td>0,84</td><td>4.620</td></tr><tr><td>Balneário Camboriú</td><td>0,845</td><td>6.211</td></tr><tr><td>Vitória</td><td>0,845</td><td>9.839</td></tr><tr><td>Florianópolis</td><td>0,847</td><td>3.967</td></tr><tr><td>Águas De São Pedro</td><td>0,854</td><td>3.881</td></tr><tr><td>São Caetano Do Sul</td><td>0,862</td><td>19.766</td></tr></table>"
                    },
                    "metadata": {
                        "azdata_chartOptions": {
                            "type": "bar",
                            "dataDirection": "vertical",
                            "columnsAsLabels": true,
                            "labelFirstColumn": false,
                            "legendPosition": "top"
                        }
                    }
                }
            ],
            "execution_count": 17
        },
        {
            "cell_type": "markdown",
            "source": [
                "## Gráfico com o GVA de serviços por pessoa nas Cidades com os maiores e menores IDHM"
            ],
            "metadata": {
                "language": "sql",
                "azdata_cell_guid": "b1926a16-80f1-4d87-a902-ebdb9beb2489"
            },
            "attachments": {}
        },
        {
            "cell_type": "code",
            "source": [
                "select DISTINCT [CITY]\r\n",
                "      , [IDHM]\r\n",
                "      , CAST (GVA_SERVICES/IBGE_RES_POP as numeric (10,3)) as GVA_SERVICES_Person\r\n",
                "FROM [dbo].[Tabela_MVP_04]\r\n",
                "WHERE [IDHM] > 0.80\r\n",
                "or [IDHM] < 0.50\r\n",
                "AND IBGE_RES_POP >0\r\n",
                "ORDER BY [IDHM]"
            ],
            "metadata": {
                "language": "sql",
                "azdata_cell_guid": "a6d9e36e-d023-49e7-9ec6-090b73b5d03e"
            },
            "outputs": [
                {
                    "output_type": "display_data",
                    "data": {
                        "text/html": "(73 rows affected)"
                    },
                    "metadata": {}
                },
                {
                    "output_type": "display_data",
                    "data": {
                        "text/html": "Total execution time: 00:00:00.206"
                    },
                    "metadata": {}
                },
                {
                    "output_type": "execute_result",
                    "execution_count": 18,
                    "data": {
                        "application/vnd.dataresource+json": {
                            "schema": {
                                "fields": [
                                    {
                                        "name": "CITY"
                                    },
                                    {
                                        "name": "IDHM"
                                    },
                                    {
                                        "name": "GVA_SERVICES_Person"
                                    }
                                ]
                            },
                            "data": [
                                {
                                    "CITY": "Santa Terezinha",
                                    "IDHM": "0",
                                    "GVA_SERVICES_Person": "1.840"
                                },
                                {
                                    "CITY": "São Vicente Do Seridó",
                                    "IDHM": "0",
                                    "GVA_SERVICES_Person": "1.192"
                                },
                                {
                                    "CITY": "Melgaço",
                                    "IDHM": "0,418",
                                    "GVA_SERVICES_Person": "0.912"
                                },
                                {
                                    "CITY": "Fernando Falcão",
                                    "IDHM": "0,443",
                                    "GVA_SERVICES_Person": "1.114"
                                },
                                {
                                    "CITY": "Atalaia Do Norte",
                                    "IDHM": "0,45",
                                    "GVA_SERVICES_Person": "1.357"
                                },
                                {
                                    "CITY": "Marajá Do Sena",
                                    "IDHM": "0,452",
                                    "GVA_SERVICES_Person": "1.092"
                                },
                                {
                                    "CITY": "Chaves",
                                    "IDHM": "0,453",
                                    "GVA_SERVICES_Person": "0.668"
                                },
                                {
                                    "CITY": "Uiramutã",
                                    "IDHM": "0,453",
                                    "GVA_SERVICES_Person": "0.567"
                                },
                                {
                                    "CITY": "Jordão",
                                    "IDHM": "0,469",
                                    "GVA_SERVICES_Person": "1.255"
                                },
                                {
                                    "CITY": "Bagre",
                                    "IDHM": "0,471",
                                    "GVA_SERVICES_Person": "0.887"
                                },
                                {
                                    "CITY": "Cachoeira Do Piriá",
                                    "IDHM": "0,473",
                                    "GVA_SERVICES_Person": "0.993"
                                },
                                {
                                    "CITY": "Itamarati",
                                    "IDHM": "0,477",
                                    "GVA_SERVICES_Person": "1.731"
                                },
                                {
                                    "CITY": "Santa Isabel Do Rio Negro",
                                    "IDHM": "0,479",
                                    "GVA_SERVICES_Person": "0.789"
                                },
                                {
                                    "CITY": "Ipixuna",
                                    "IDHM": "0,481",
                                    "GVA_SERVICES_Person": "0.751"
                                },
                                {
                                    "CITY": "Portel",
                                    "IDHM": "0,483",
                                    "GVA_SERVICES_Person": "1.959"
                                },
                                {
                                    "CITY": "Amajari",
                                    "IDHM": "0,484",
                                    "GVA_SERVICES_Person": "1.009"
                                },
                                {
                                    "CITY": "Anajás",
                                    "IDHM": "0,484",
                                    "GVA_SERVICES_Person": "1.188"
                                },
                                {
                                    "CITY": "Inhapi",
                                    "IDHM": "0,484",
                                    "GVA_SERVICES_Person": "1.710"
                                },
                                {
                                    "CITY": "São Francisco De Assis Do Piauí",
                                    "IDHM": "0,485",
                                    "GVA_SERVICES_Person": "1.579"
                                },
                                {
                                    "CITY": "Itapicuru",
                                    "IDHM": "0,486",
                                    "GVA_SERVICES_Person": "2.197"
                                },
                                {
                                    "CITY": "Manari",
                                    "IDHM": "0,487",
                                    "GVA_SERVICES_Person": "1.163"
                                },
                                {
                                    "CITY": "Caxingó",
                                    "IDHM": "0,488",
                                    "GVA_SERVICES_Person": "1.755"
                                },
                                {
                                    "CITY": "Afuá",
                                    "IDHM": "0,489",
                                    "GVA_SERVICES_Person": "1.176"
                                },
                                {
                                    "CITY": "Betânia Do Piauí",
                                    "IDHM": "0,489",
                                    "GVA_SERVICES_Person": "1.653"
                                },
                                {
                                    "CITY": "Ipixuna Do Pará",
                                    "IDHM": "0,489",
                                    "GVA_SERVICES_Person": "1.451"
                                },
                                {
                                    "CITY": "Jenipapo Dos Vieiras",
                                    "IDHM": "0,49",
                                    "GVA_SERVICES_Person": "0.981"
                                },
                                {
                                    "CITY": "Santo Antônio Do Içá",
                                    "IDHM": "0,49",
                                    "GVA_SERVICES_Person": "0.992"
                                },
                                {
                                    "CITY": "Olivença",
                                    "IDHM": "0,493",
                                    "GVA_SERVICES_Person": "1.128"
                                },
                                {
                                    "CITY": "Satubinha",
                                    "IDHM": "0,493",
                                    "GVA_SERVICES_Person": "1.080"
                                },
                                {
                                    "CITY": "Pauini",
                                    "IDHM": "0,496",
                                    "GVA_SERVICES_Person": "1.124"
                                },
                                {
                                    "CITY": "Cocal",
                                    "IDHM": "0,497",
                                    "GVA_SERVICES_Person": "2.194"
                                },
                                {
                                    "CITY": "Cocal Dos Alves",
                                    "IDHM": "0,498",
                                    "GVA_SERVICES_Person": "1.606"
                                },
                                {
                                    "CITY": "Maraã",
                                    "IDHM": "0,498",
                                    "GVA_SERVICES_Person": "0.980"
                                },
                                {
                                    "CITY": "Assunção Do Piauí",
                                    "IDHM": "0,499",
                                    "GVA_SERVICES_Person": "0.990"
                                },
                                {
                                    "CITY": "Bauru",
                                    "IDHM": "0,801",
                                    "GVA_SERVICES_Person": "23.879"
                                },
                                {
                                    "CITY": "Pirassununga",
                                    "IDHM": "0,801",
                                    "GVA_SERVICES_Person": "18.367"
                                },
                                {
                                    "CITY": "São Miguel Do Oeste",
                                    "IDHM": "0,801",
                                    "GVA_SERVICES_Person": "18.398"
                                },
                                {
                                    "CITY": "Rio Do Sul",
                                    "IDHM": "0,802",
                                    "GVA_SERVICES_Person": "19.229"
                                },
                                {
                                    "CITY": "Jaraguá Do Sul",
                                    "IDHM": "0,803",
                                    "GVA_SERVICES_Person": "19.494"
                                },
                                {
                                    "CITY": "Rio Claro",
                                    "IDHM": "0,803",
                                    "GVA_SERVICES_Person": "20.144"
                                },
                                {
                                    "CITY": "Assis",
                                    "IDHM": "0,805",
                                    "GVA_SERVICES_Person": "19.219"
                                },
                                {
                                    "CITY": "Campinas",
                                    "IDHM": "0,805",
                                    "GVA_SERVICES_Person": "31.394"
                                },
                                {
                                    "CITY": "Porto Alegre",
                                    "IDHM": "0,805",
                                    "GVA_SERVICES_Person": "34.718"
                                },
                                {
                                    "CITY": "São Bernardo Do Campo",
                                    "IDHM": "0,805",
                                    "GVA_SERVICES_Person": "31.101"
                                },
                                {
                                    "CITY": "São Carlos",
                                    "IDHM": "0,805",
                                    "GVA_SERVICES_Person": "21.731"
                                },
                                {
                                    "CITY": "São Paulo",
                                    "IDHM": "0,805",
                                    "GVA_SERVICES_Person": "41.290"
                                },
                                {
                                    "CITY": "Blumenau",
                                    "IDHM": "0,806",
                                    "GVA_SERVICES_Person": "24.728"
                                },
                                {
                                    "CITY": "Presidente Prudente",
                                    "IDHM": "0,806",
                                    "GVA_SERVICES_Person": "23.329"
                                },
                                {
                                    "CITY": "Rio Fortuna",
                                    "IDHM": "0,806",
                                    "GVA_SERVICES_Person": "9.350"
                                },
                                {
                                    "CITY": "São José Dos Campos",
                                    "IDHM": "0,807",
                                    "GVA_SERVICES_Person": "26.285"
                                },
                                {
                                    "CITY": "Maringá",
                                    "IDHM": "0,808",
                                    "GVA_SERVICES_Person": "26.240"
                                },
                                {
                                    "CITY": "Joinville",
                                    "IDHM": "0,809",
                                    "GVA_SERVICES_Person": "21.097"
                                },
                                {
                                    "CITY": "São José",
                                    "IDHM": "0,809",
                                    "GVA_SERVICES_Person": "26.201"
                                },
                                {
                                    "CITY": "Belo Horizonte",
                                    "IDHM": "0,81",
                                    "GVA_SERVICES_Person": "22.404"
                                },
                                {
                                    "CITY": "Americana",
                                    "IDHM": "0,811",
                                    "GVA_SERVICES_Person": "25.951"
                                },
                                {
                                    "CITY": "Ilha Solteira",
                                    "IDHM": "0,812",
                                    "GVA_SERVICES_Person": "13.251"
                                },
                                {
                                    "CITY": "Nova Lima",
                                    "IDHM": "0,813",
                                    "GVA_SERVICES_Person": "31.758"
                                },
                                {
                                    "CITY": "Santana De Parnaíba",
                                    "IDHM": "0,814",
                                    "GVA_SERVICES_Person": "42.217"
                                },
                                {
                                    "CITY": "Araraquara",
                                    "IDHM": "0,815",
                                    "GVA_SERVICES_Person": "24.951"
                                },
                                {
                                    "CITY": "Santo André",
                                    "IDHM": "0,815",
                                    "GVA_SERVICES_Person": "23.256"
                                },
                                {
                                    "CITY": "Vinhedo",
                                    "IDHM": "0,817",
                                    "GVA_SERVICES_Person": "55.988"
                                },
                                {
                                    "CITY": "Valinhos",
                                    "IDHM": "0,819",
                                    "GVA_SERVICES_Person": "24.144"
                                },
                                {
                                    "CITY": "Jundiaí",
                                    "IDHM": "0,822",
                                    "GVA_SERVICES_Person": "62.438"
                                },
                                {
                                    "CITY": "Curitiba",
                                    "IDHM": "0,823",
                                    "GVA_SERVICES_Person": "26.399"
                                },
                                {
                                    "CITY": "Brasília",
                                    "IDHM": "0,824",
                                    "GVA_SERVICES_Person": "40.394"
                                },
                                {
                                    "CITY": "Joaçaba",
                                    "IDHM": "0,827",
                                    "GVA_SERVICES_Person": "30.260"
                                },
                                {
                                    "CITY": "Niterói",
                                    "IDHM": "0,837",
                                    "GVA_SERVICES_Person": "25.893"
                                },
                                {
                                    "CITY": "Santos",
                                    "IDHM": "0,84",
                                    "GVA_SERVICES_Person": "36.059"
                                },
                                {
                                    "CITY": "Balneário Camboriú",
                                    "IDHM": "0,845",
                                    "GVA_SERVICES_Person": "27.812"
                                },
                                {
                                    "CITY": "Vitória",
                                    "IDHM": "0,845",
                                    "GVA_SERVICES_Person": "35.496"
                                },
                                {
                                    "CITY": "Florianópolis",
                                    "IDHM": "0,847",
                                    "GVA_SERVICES_Person": "26.964"
                                },
                                {
                                    "CITY": "Águas De São Pedro",
                                    "IDHM": "0,854",
                                    "GVA_SERVICES_Person": "34.860"
                                },
                                {
                                    "CITY": "São Caetano Do Sul",
                                    "IDHM": "0,862",
                                    "GVA_SERVICES_Person": "45.327"
                                }
                            ]
                        },
                        "text/html": "<table><tr><th>CITY</th><th>IDHM</th><th>GVA_SERVICES_Person</th></tr><tr><td>Santa Terezinha</td><td>0</td><td>1.840</td></tr><tr><td>São Vicente Do Seridó</td><td>0</td><td>1.192</td></tr><tr><td>Melgaço</td><td>0,418</td><td>0.912</td></tr><tr><td>Fernando Falcão</td><td>0,443</td><td>1.114</td></tr><tr><td>Atalaia Do Norte</td><td>0,45</td><td>1.357</td></tr><tr><td>Marajá Do Sena</td><td>0,452</td><td>1.092</td></tr><tr><td>Chaves</td><td>0,453</td><td>0.668</td></tr><tr><td>Uiramutã</td><td>0,453</td><td>0.567</td></tr><tr><td>Jordão</td><td>0,469</td><td>1.255</td></tr><tr><td>Bagre</td><td>0,471</td><td>0.887</td></tr><tr><td>Cachoeira Do Piriá</td><td>0,473</td><td>0.993</td></tr><tr><td>Itamarati</td><td>0,477</td><td>1.731</td></tr><tr><td>Santa Isabel Do Rio Negro</td><td>0,479</td><td>0.789</td></tr><tr><td>Ipixuna</td><td>0,481</td><td>0.751</td></tr><tr><td>Portel</td><td>0,483</td><td>1.959</td></tr><tr><td>Amajari</td><td>0,484</td><td>1.009</td></tr><tr><td>Anajás</td><td>0,484</td><td>1.188</td></tr><tr><td>Inhapi</td><td>0,484</td><td>1.710</td></tr><tr><td>São Francisco De Assis Do Piauí</td><td>0,485</td><td>1.579</td></tr><tr><td>Itapicuru</td><td>0,486</td><td>2.197</td></tr><tr><td>Manari</td><td>0,487</td><td>1.163</td></tr><tr><td>Caxingó</td><td>0,488</td><td>1.755</td></tr><tr><td>Afuá</td><td>0,489</td><td>1.176</td></tr><tr><td>Betânia Do Piauí</td><td>0,489</td><td>1.653</td></tr><tr><td>Ipixuna Do Pará</td><td>0,489</td><td>1.451</td></tr><tr><td>Jenipapo Dos Vieiras</td><td>0,49</td><td>0.981</td></tr><tr><td>Santo Antônio Do Içá</td><td>0,49</td><td>0.992</td></tr><tr><td>Olivença</td><td>0,493</td><td>1.128</td></tr><tr><td>Satubinha</td><td>0,493</td><td>1.080</td></tr><tr><td>Pauini</td><td>0,496</td><td>1.124</td></tr><tr><td>Cocal</td><td>0,497</td><td>2.194</td></tr><tr><td>Cocal Dos Alves</td><td>0,498</td><td>1.606</td></tr><tr><td>Maraã</td><td>0,498</td><td>0.980</td></tr><tr><td>Assunção Do Piauí</td><td>0,499</td><td>0.990</td></tr><tr><td>Bauru</td><td>0,801</td><td>23.879</td></tr><tr><td>Pirassununga</td><td>0,801</td><td>18.367</td></tr><tr><td>São Miguel Do Oeste</td><td>0,801</td><td>18.398</td></tr><tr><td>Rio Do Sul</td><td>0,802</td><td>19.229</td></tr><tr><td>Jaraguá Do Sul</td><td>0,803</td><td>19.494</td></tr><tr><td>Rio Claro</td><td>0,803</td><td>20.144</td></tr><tr><td>Assis</td><td>0,805</td><td>19.219</td></tr><tr><td>Campinas</td><td>0,805</td><td>31.394</td></tr><tr><td>Porto Alegre</td><td>0,805</td><td>34.718</td></tr><tr><td>São Bernardo Do Campo</td><td>0,805</td><td>31.101</td></tr><tr><td>São Carlos</td><td>0,805</td><td>21.731</td></tr><tr><td>São Paulo</td><td>0,805</td><td>41.290</td></tr><tr><td>Blumenau</td><td>0,806</td><td>24.728</td></tr><tr><td>Presidente Prudente</td><td>0,806</td><td>23.329</td></tr><tr><td>Rio Fortuna</td><td>0,806</td><td>9.350</td></tr><tr><td>São José Dos Campos</td><td>0,807</td><td>26.285</td></tr><tr><td>Maringá</td><td>0,808</td><td>26.240</td></tr><tr><td>Joinville</td><td>0,809</td><td>21.097</td></tr><tr><td>São José</td><td>0,809</td><td>26.201</td></tr><tr><td>Belo Horizonte</td><td>0,81</td><td>22.404</td></tr><tr><td>Americana</td><td>0,811</td><td>25.951</td></tr><tr><td>Ilha Solteira</td><td>0,812</td><td>13.251</td></tr><tr><td>Nova Lima</td><td>0,813</td><td>31.758</td></tr><tr><td>Santana De Parnaíba</td><td>0,814</td><td>42.217</td></tr><tr><td>Araraquara</td><td>0,815</td><td>24.951</td></tr><tr><td>Santo André</td><td>0,815</td><td>23.256</td></tr><tr><td>Vinhedo</td><td>0,817</td><td>55.988</td></tr><tr><td>Valinhos</td><td>0,819</td><td>24.144</td></tr><tr><td>Jundiaí</td><td>0,822</td><td>62.438</td></tr><tr><td>Curitiba</td><td>0,823</td><td>26.399</td></tr><tr><td>Brasília</td><td>0,824</td><td>40.394</td></tr><tr><td>Joaçaba</td><td>0,827</td><td>30.260</td></tr><tr><td>Niterói</td><td>0,837</td><td>25.893</td></tr><tr><td>Santos</td><td>0,84</td><td>36.059</td></tr><tr><td>Balneário Camboriú</td><td>0,845</td><td>27.812</td></tr><tr><td>Vitória</td><td>0,845</td><td>35.496</td></tr><tr><td>Florianópolis</td><td>0,847</td><td>26.964</td></tr><tr><td>Águas De São Pedro</td><td>0,854</td><td>34.860</td></tr><tr><td>São Caetano Do Sul</td><td>0,862</td><td>45.327</td></tr></table>"
                    },
                    "metadata": {
                        "azdata_chartOptions": {
                            "type": "bar",
                            "dataDirection": "vertical",
                            "columnsAsLabels": true,
                            "labelFirstColumn": true,
                            "legendPosition": "top"
                        }
                    }
                }
            ],
            "execution_count": 18
        },
        {
            "cell_type": "markdown",
            "source": [
                "## Gráfico com o GVA total por pessoa nas Cidades com os maiores e menores IDHM"
            ],
            "metadata": {
                "language": "sql",
                "azdata_cell_guid": "2aa7836b-3df7-43d3-a2e8-73da331b655a"
            },
            "attachments": {}
        },
        {
            "cell_type": "code",
            "source": [
                "select DISTINCT [CITY]\r\n",
                "      , [IDHM]\r\n",
                "      , CAST (GVA_TOTAL/IBGE_RES_POP as numeric (10,3)) as GVA_TOTAL_Person\r\n",
                "FROM [dbo].[Tabela_MVP_04]\r\n",
                "WHERE [IDHM] > 0.80\r\n",
                "or [IDHM] < 0.50\r\n",
                "AND IBGE_RES_POP >0\r\n",
                "ORDER BY [IDHM]"
            ],
            "metadata": {
                "language": "sql",
                "azdata_cell_guid": "197a1dde-ec5f-49cc-8e8b-75ca5507fb72",
                "tags": []
            },
            "outputs": [
                {
                    "output_type": "display_data",
                    "data": {
                        "text/html": "(73 rows affected)"
                    },
                    "metadata": {}
                },
                {
                    "output_type": "display_data",
                    "data": {
                        "text/html": "Total execution time: 00:00:00.135"
                    },
                    "metadata": {}
                },
                {
                    "output_type": "execute_result",
                    "execution_count": 32,
                    "data": {
                        "application/vnd.dataresource+json": {
                            "schema": {
                                "fields": [
                                    {
                                        "name": "CITY"
                                    },
                                    {
                                        "name": "IDHM"
                                    },
                                    {
                                        "name": "GVA_TOTAL_Person"
                                    }
                                ]
                            },
                            "data": [
                                {
                                    "CITY": "Santa Terezinha",
                                    "IDHM": "0",
                                    "GVA_TOTAL_Person": "29.596"
                                },
                                {
                                    "CITY": "São Vicente Do Seridó",
                                    "IDHM": "0",
                                    "GVA_TOTAL_Person": "13.342"
                                },
                                {
                                    "CITY": "Melgaço",
                                    "IDHM": "0,418",
                                    "GVA_TOTAL_Person": "31.286"
                                },
                                {
                                    "CITY": "Fernando Falcão",
                                    "IDHM": "0,443",
                                    "GVA_TOTAL_Person": "33.445"
                                },
                                {
                                    "CITY": "Atalaia Do Norte",
                                    "IDHM": "0,45",
                                    "GVA_TOTAL_Person": "24.432"
                                },
                                {
                                    "CITY": "Marajá Do Sena",
                                    "IDHM": "0,452",
                                    "GVA_TOTAL_Person": "42.667"
                                },
                                {
                                    "CITY": "Chaves",
                                    "IDHM": "0,453",
                                    "GVA_TOTAL_Person": "69.903"
                                },
                                {
                                    "CITY": "Uiramutã",
                                    "IDHM": "0,453",
                                    "GVA_TOTAL_Person": "129.835"
                                },
                                {
                                    "CITY": "Jordão",
                                    "IDHM": "0,469",
                                    "GVA_TOTAL_Person": "32.279"
                                },
                                {
                                    "CITY": "Bagre",
                                    "IDHM": "0,471",
                                    "GVA_TOTAL_Person": "15.536"
                                },
                                {
                                    "CITY": "Cachoeira Do Piriá",
                                    "IDHM": "0,473",
                                    "GVA_TOTAL_Person": "30.216"
                                },
                                {
                                    "CITY": "Itamarati",
                                    "IDHM": "0,477",
                                    "GVA_TOTAL_Person": "18.465"
                                },
                                {
                                    "CITY": "Santa Isabel Do Rio Negro",
                                    "IDHM": "0,479",
                                    "GVA_TOTAL_Person": "18.671"
                                },
                                {
                                    "CITY": "Ipixuna",
                                    "IDHM": "0,481",
                                    "GVA_TOTAL_Person": "15.274"
                                },
                                {
                                    "CITY": "Portel",
                                    "IDHM": "0,483",
                                    "GVA_TOTAL_Person": "27.439"
                                },
                                {
                                    "CITY": "Amajari",
                                    "IDHM": "0,484",
                                    "GVA_TOTAL_Person": "113.534"
                                },
                                {
                                    "CITY": "Anajás",
                                    "IDHM": "0,484",
                                    "GVA_TOTAL_Person": "19.156"
                                },
                                {
                                    "CITY": "Inhapi",
                                    "IDHM": "0,484",
                                    "GVA_TOTAL_Person": "14.782"
                                },
                                {
                                    "CITY": "São Francisco De Assis Do Piauí",
                                    "IDHM": "0,485",
                                    "GVA_TOTAL_Person": "25.445"
                                },
                                {
                                    "CITY": "Itapicuru",
                                    "IDHM": "0,486",
                                    "GVA_TOTAL_Person": "54.229"
                                },
                                {
                                    "CITY": "Manari",
                                    "IDHM": "0,487",
                                    "GVA_TOTAL_Person": "28.548"
                                },
                                {
                                    "CITY": "Caxingó",
                                    "IDHM": "0,488",
                                    "GVA_TOTAL_Person": "41.222"
                                },
                                {
                                    "CITY": "Afuá",
                                    "IDHM": "0,489",
                                    "GVA_TOTAL_Person": "32.602"
                                },
                                {
                                    "CITY": "Betânia Do Piauí",
                                    "IDHM": "0,489",
                                    "GVA_TOTAL_Person": "25.002"
                                },
                                {
                                    "CITY": "Ipixuna Do Pará",
                                    "IDHM": "0,489",
                                    "GVA_TOTAL_Person": "37.633"
                                },
                                {
                                    "CITY": "Jenipapo Dos Vieiras",
                                    "IDHM": "0,49",
                                    "GVA_TOTAL_Person": "33.720"
                                },
                                {
                                    "CITY": "Santo Antônio Do Içá",
                                    "IDHM": "0,49",
                                    "GVA_TOTAL_Person": "12.237"
                                },
                                {
                                    "CITY": "Olivença",
                                    "IDHM": "0,493",
                                    "GVA_TOTAL_Person": "20.490"
                                },
                                {
                                    "CITY": "Satubinha",
                                    "IDHM": "0,493",
                                    "GVA_TOTAL_Person": "17.591"
                                },
                                {
                                    "CITY": "Pauini",
                                    "IDHM": "0,496",
                                    "GVA_TOTAL_Person": "15.060"
                                },
                                {
                                    "CITY": "Cocal",
                                    "IDHM": "0,497",
                                    "GVA_TOTAL_Person": "15.218"
                                },
                                {
                                    "CITY": "Cocal Dos Alves",
                                    "IDHM": "0,498",
                                    "GVA_TOTAL_Person": "16.097"
                                },
                                {
                                    "CITY": "Maraã",
                                    "IDHM": "0,498",
                                    "GVA_TOTAL_Person": "16.255"
                                },
                                {
                                    "CITY": "Assunção Do Piauí",
                                    "IDHM": "0,499",
                                    "GVA_TOTAL_Person": "12.590"
                                },
                                {
                                    "CITY": "Bauru",
                                    "IDHM": "0,801",
                                    "GVA_TOTAL_Person": "35.616"
                                },
                                {
                                    "CITY": "Pirassununga",
                                    "IDHM": "0,801",
                                    "GVA_TOTAL_Person": "32.922"
                                },
                                {
                                    "CITY": "São Miguel Do Oeste",
                                    "IDHM": "0,801",
                                    "GVA_TOTAL_Person": "47.452"
                                },
                                {
                                    "CITY": "Rio Do Sul",
                                    "IDHM": "0,802",
                                    "GVA_TOTAL_Person": "35.420"
                                },
                                {
                                    "CITY": "Jaraguá Do Sul",
                                    "IDHM": "0,803",
                                    "GVA_TOTAL_Person": "73.197"
                                },
                                {
                                    "CITY": "Rio Claro",
                                    "IDHM": "0,803",
                                    "GVA_TOTAL_Person": "41.903"
                                },
                                {
                                    "CITY": "Assis",
                                    "IDHM": "0,805",
                                    "GVA_TOTAL_Person": "28.253"
                                },
                                {
                                    "CITY": "Campinas",
                                    "IDHM": "0,805",
                                    "GVA_TOTAL_Person": "48.549"
                                },
                                {
                                    "CITY": "Porto Alegre",
                                    "IDHM": "0,805",
                                    "GVA_TOTAL_Person": "46.606"
                                },
                                {
                                    "CITY": "São Bernardo Do Campo",
                                    "IDHM": "0,805",
                                    "GVA_TOTAL_Person": "57.569"
                                },
                                {
                                    "CITY": "São Carlos",
                                    "IDHM": "0,805",
                                    "GVA_TOTAL_Person": "42.192"
                                },
                                {
                                    "CITY": "São Paulo",
                                    "IDHM": "0,805",
                                    "GVA_TOTAL_Person": "54.466"
                                },
                                {
                                    "CITY": "Blumenau",
                                    "IDHM": "0,806",
                                    "GVA_TOTAL_Person": "47.691"
                                },
                                {
                                    "CITY": "Presidente Prudente",
                                    "IDHM": "0,806",
                                    "GVA_TOTAL_Person": "33.772"
                                },
                                {
                                    "CITY": "Rio Fortuna",
                                    "IDHM": "0,806",
                                    "GVA_TOTAL_Person": "145.020"
                                },
                                {
                                    "CITY": "São José Dos Campos",
                                    "IDHM": "0,807",
                                    "GVA_TOTAL_Person": "57.521"
                                },
                                {
                                    "CITY": "Maringá",
                                    "IDHM": "0,808",
                                    "GVA_TOTAL_Person": "40.796"
                                },
                                {
                                    "CITY": "Joinville",
                                    "IDHM": "0,809",
                                    "GVA_TOTAL_Person": "43.639"
                                },
                                {
                                    "CITY": "São José",
                                    "IDHM": "0,809",
                                    "GVA_TOTAL_Person": "40.312"
                                },
                                {
                                    "CITY": "Belo Horizonte",
                                    "IDHM": "0,81",
                                    "GVA_TOTAL_Person": "33.478"
                                },
                                {
                                    "CITY": "Americana",
                                    "IDHM": "0,811",
                                    "GVA_TOTAL_Person": "42.322"
                                },
                                {
                                    "CITY": "Ilha Solteira",
                                    "IDHM": "0,812",
                                    "GVA_TOTAL_Person": "23.437"
                                },
                                {
                                    "CITY": "Nova Lima",
                                    "IDHM": "0,813",
                                    "GVA_TOTAL_Person": "87.422"
                                },
                                {
                                    "CITY": "Santana De Parnaíba",
                                    "IDHM": "0,814",
                                    "GVA_TOTAL_Person": "93.257"
                                },
                                {
                                    "CITY": "Araraquara",
                                    "IDHM": "0,815",
                                    "GVA_TOTAL_Person": "38.801"
                                },
                                {
                                    "CITY": "Santo André",
                                    "IDHM": "0,815",
                                    "GVA_TOTAL_Person": "34.918"
                                },
                                {
                                    "CITY": "Vinhedo",
                                    "IDHM": "0,817",
                                    "GVA_TOTAL_Person": "102.058"
                                },
                                {
                                    "CITY": "Valinhos",
                                    "IDHM": "0,819",
                                    "GVA_TOTAL_Person": "45.994"
                                },
                                {
                                    "CITY": "Jundiaí",
                                    "IDHM": "0,822",
                                    "GVA_TOTAL_Person": "100.406"
                                },
                                {
                                    "CITY": "Curitiba",
                                    "IDHM": "0,823",
                                    "GVA_TOTAL_Person": "40.188"
                                },
                                {
                                    "CITY": "Brasília",
                                    "IDHM": "0,824",
                                    "GVA_TOTAL_Person": "84.203"
                                },
                                {
                                    "CITY": "Joaçaba",
                                    "IDHM": "0,827",
                                    "GVA_TOTAL_Person": "84.937"
                                },
                                {
                                    "CITY": "Niterói",
                                    "IDHM": "0,837",
                                    "GVA_TOTAL_Person": "50.556"
                                },
                                {
                                    "CITY": "Santos",
                                    "IDHM": "0,84",
                                    "GVA_TOTAL_Person": "48.279"
                                },
                                {
                                    "CITY": "Balneário Camboriú",
                                    "IDHM": "0,845",
                                    "GVA_TOTAL_Person": "49.199"
                                },
                                {
                                    "CITY": "Vitória",
                                    "IDHM": "0,845",
                                    "GVA_TOTAL_Person": "55.411"
                                },
                                {
                                    "CITY": "Florianópolis",
                                    "IDHM": "0,847",
                                    "GVA_TOTAL_Person": "38.402"
                                },
                                {
                                    "CITY": "Águas De São Pedro",
                                    "IDHM": "0,854",
                                    "GVA_TOTAL_Person": "46.551"
                                },
                                {
                                    "CITY": "São Caetano Do Sul",
                                    "IDHM": "0,862",
                                    "GVA_TOTAL_Person": "72.044"
                                }
                            ]
                        },
                        "text/html": "<table><tr><th>CITY</th><th>IDHM</th><th>GVA_TOTAL_Person</th></tr><tr><td>Santa Terezinha</td><td>0</td><td>29.596</td></tr><tr><td>São Vicente Do Seridó</td><td>0</td><td>13.342</td></tr><tr><td>Melgaço</td><td>0,418</td><td>31.286</td></tr><tr><td>Fernando Falcão</td><td>0,443</td><td>33.445</td></tr><tr><td>Atalaia Do Norte</td><td>0,45</td><td>24.432</td></tr><tr><td>Marajá Do Sena</td><td>0,452</td><td>42.667</td></tr><tr><td>Chaves</td><td>0,453</td><td>69.903</td></tr><tr><td>Uiramutã</td><td>0,453</td><td>129.835</td></tr><tr><td>Jordão</td><td>0,469</td><td>32.279</td></tr><tr><td>Bagre</td><td>0,471</td><td>15.536</td></tr><tr><td>Cachoeira Do Piriá</td><td>0,473</td><td>30.216</td></tr><tr><td>Itamarati</td><td>0,477</td><td>18.465</td></tr><tr><td>Santa Isabel Do Rio Negro</td><td>0,479</td><td>18.671</td></tr><tr><td>Ipixuna</td><td>0,481</td><td>15.274</td></tr><tr><td>Portel</td><td>0,483</td><td>27.439</td></tr><tr><td>Amajari</td><td>0,484</td><td>113.534</td></tr><tr><td>Anajás</td><td>0,484</td><td>19.156</td></tr><tr><td>Inhapi</td><td>0,484</td><td>14.782</td></tr><tr><td>São Francisco De Assis Do Piauí</td><td>0,485</td><td>25.445</td></tr><tr><td>Itapicuru</td><td>0,486</td><td>54.229</td></tr><tr><td>Manari</td><td>0,487</td><td>28.548</td></tr><tr><td>Caxingó</td><td>0,488</td><td>41.222</td></tr><tr><td>Afuá</td><td>0,489</td><td>32.602</td></tr><tr><td>Betânia Do Piauí</td><td>0,489</td><td>25.002</td></tr><tr><td>Ipixuna Do Pará</td><td>0,489</td><td>37.633</td></tr><tr><td>Jenipapo Dos Vieiras</td><td>0,49</td><td>33.720</td></tr><tr><td>Santo Antônio Do Içá</td><td>0,49</td><td>12.237</td></tr><tr><td>Olivença</td><td>0,493</td><td>20.490</td></tr><tr><td>Satubinha</td><td>0,493</td><td>17.591</td></tr><tr><td>Pauini</td><td>0,496</td><td>15.060</td></tr><tr><td>Cocal</td><td>0,497</td><td>15.218</td></tr><tr><td>Cocal Dos Alves</td><td>0,498</td><td>16.097</td></tr><tr><td>Maraã</td><td>0,498</td><td>16.255</td></tr><tr><td>Assunção Do Piauí</td><td>0,499</td><td>12.590</td></tr><tr><td>Bauru</td><td>0,801</td><td>35.616</td></tr><tr><td>Pirassununga</td><td>0,801</td><td>32.922</td></tr><tr><td>São Miguel Do Oeste</td><td>0,801</td><td>47.452</td></tr><tr><td>Rio Do Sul</td><td>0,802</td><td>35.420</td></tr><tr><td>Jaraguá Do Sul</td><td>0,803</td><td>73.197</td></tr><tr><td>Rio Claro</td><td>0,803</td><td>41.903</td></tr><tr><td>Assis</td><td>0,805</td><td>28.253</td></tr><tr><td>Campinas</td><td>0,805</td><td>48.549</td></tr><tr><td>Porto Alegre</td><td>0,805</td><td>46.606</td></tr><tr><td>São Bernardo Do Campo</td><td>0,805</td><td>57.569</td></tr><tr><td>São Carlos</td><td>0,805</td><td>42.192</td></tr><tr><td>São Paulo</td><td>0,805</td><td>54.466</td></tr><tr><td>Blumenau</td><td>0,806</td><td>47.691</td></tr><tr><td>Presidente Prudente</td><td>0,806</td><td>33.772</td></tr><tr><td>Rio Fortuna</td><td>0,806</td><td>145.020</td></tr><tr><td>São José Dos Campos</td><td>0,807</td><td>57.521</td></tr><tr><td>Maringá</td><td>0,808</td><td>40.796</td></tr><tr><td>Joinville</td><td>0,809</td><td>43.639</td></tr><tr><td>São José</td><td>0,809</td><td>40.312</td></tr><tr><td>Belo Horizonte</td><td>0,81</td><td>33.478</td></tr><tr><td>Americana</td><td>0,811</td><td>42.322</td></tr><tr><td>Ilha Solteira</td><td>0,812</td><td>23.437</td></tr><tr><td>Nova Lima</td><td>0,813</td><td>87.422</td></tr><tr><td>Santana De Parnaíba</td><td>0,814</td><td>93.257</td></tr><tr><td>Araraquara</td><td>0,815</td><td>38.801</td></tr><tr><td>Santo André</td><td>0,815</td><td>34.918</td></tr><tr><td>Vinhedo</td><td>0,817</td><td>102.058</td></tr><tr><td>Valinhos</td><td>0,819</td><td>45.994</td></tr><tr><td>Jundiaí</td><td>0,822</td><td>100.406</td></tr><tr><td>Curitiba</td><td>0,823</td><td>40.188</td></tr><tr><td>Brasília</td><td>0,824</td><td>84.203</td></tr><tr><td>Joaçaba</td><td>0,827</td><td>84.937</td></tr><tr><td>Niterói</td><td>0,837</td><td>50.556</td></tr><tr><td>Santos</td><td>0,84</td><td>48.279</td></tr><tr><td>Balneário Camboriú</td><td>0,845</td><td>49.199</td></tr><tr><td>Vitória</td><td>0,845</td><td>55.411</td></tr><tr><td>Florianópolis</td><td>0,847</td><td>38.402</td></tr><tr><td>Águas De São Pedro</td><td>0,854</td><td>46.551</td></tr><tr><td>São Caetano Do Sul</td><td>0,862</td><td>72.044</td></tr></table>"
                    },
                    "metadata": {
                        "azdata_chartOptions": {
                            "type": "bar",
                            "dataDirection": "vertical",
                            "columnsAsLabels": true,
                            "labelFirstColumn": true,
                            "legendPosition": "top"
                        }
                    }
                }
            ],
            "execution_count": 32
        },
        {
            "cell_type": "markdown",
            "source": [
                "## GRÁFICO DO GDP POR CAPITA DAS CIDADES COM IDHM ACIMA DE 0.80"
            ],
            "metadata": {
                "language": "sql",
                "azdata_cell_guid": "fc57c500-b6ba-491f-8ae0-50b475d8f217"
            },
            "attachments": {}
        },
        {
            "cell_type": "code",
            "source": [
                "select DISTINCT [CITY]\r\n",
                "      , [GDP_CAPITA]\r\n",
                "FROM [dbo].[Tabela_MVP_04]\r\n",
                "WHERE [IDHM] > 0.80\r\n",
                ""
            ],
            "metadata": {
                "azdata_cell_guid": "970d6011-2324-4026-9de9-233e24f546c5",
                "language": "sql"
            },
            "outputs": [
                {
                    "output_type": "display_data",
                    "data": {
                        "text/html": "(39 rows affected)"
                    },
                    "metadata": {}
                },
                {
                    "output_type": "display_data",
                    "data": {
                        "text/html": "Total execution time: 00:00:00.192"
                    },
                    "metadata": {}
                },
                {
                    "output_type": "execute_result",
                    "execution_count": 1,
                    "data": {
                        "application/vnd.dataresource+json": {
                            "schema": {
                                "fields": [
                                    {
                                        "name": "CITY"
                                    },
                                    {
                                        "name": "GDP_CAPITA"
                                    }
                                ]
                            },
                            "data": [
                                {
                                    "CITY": "Águas De São Pedro",
                                    "GDP_CAPITA": "41378"
                                },
                                {
                                    "CITY": "Americana",
                                    "GDP_CAPITA": "44417"
                                },
                                {
                                    "CITY": "Araraquara",
                                    "GDP_CAPITA": "39066"
                                },
                                {
                                    "CITY": "Assis",
                                    "GDP_CAPITA": "27922"
                                },
                                {
                                    "CITY": "Balneário Camboriú",
                                    "GDP_CAPITA": "37429"
                                },
                                {
                                    "CITY": "Bauru",
                                    "GDP_CAPITA": "35577"
                                },
                                {
                                    "CITY": "Belo Horizonte",
                                    "GDP_CAPITA": "35122"
                                },
                                {
                                    "CITY": "Blumenau",
                                    "GDP_CAPITA": "44791"
                                },
                                {
                                    "CITY": "Brasília",
                                    "GDP_CAPITA": "79100"
                                },
                                {
                                    "CITY": "Campinas",
                                    "GDP_CAPITA": "49877"
                                },
                                {
                                    "CITY": "Curitiba",
                                    "GDP_CAPITA": "44239"
                                },
                                {
                                    "CITY": "Florianópolis",
                                    "GDP_CAPITA": "39048"
                                },
                                {
                                    "CITY": "Ilha Solteira",
                                    "GDP_CAPITA": "21500"
                                },
                                {
                                    "CITY": "Jaraguá Do Sul",
                                    "GDP_CAPITA": "46430"
                                },
                                {
                                    "CITY": "Joaçaba",
                                    "GDP_CAPITA": "50765"
                                },
                                {
                                    "CITY": "Joinville",
                                    "GDP_CAPITA": "44269"
                                },
                                {
                                    "CITY": "Jundiaí",
                                    "GDP_CAPITA": "98050"
                                },
                                {
                                    "CITY": "Maringá",
                                    "GDP_CAPITA": "39996"
                                },
                                {
                                    "CITY": "Niterói",
                                    "GDP_CAPITA": "46202"
                                },
                                {
                                    "CITY": "Nova Lima",
                                    "GDP_CAPITA": "82145"
                                },
                                {
                                    "CITY": "Pirassununga",
                                    "GDP_CAPITA": "32979"
                                },
                                {
                                    "CITY": "Porto Alegre",
                                    "GDP_CAPITA": "49578"
                                },
                                {
                                    "CITY": "Presidente Prudente",
                                    "GDP_CAPITA": "33101"
                                },
                                {
                                    "CITY": "Rio Claro",
                                    "GDP_CAPITA": "43967"
                                },
                                {
                                    "CITY": "Rio Do Sul",
                                    "GDP_CAPITA": "33251"
                                },
                                {
                                    "CITY": "Rio Fortuna",
                                    "GDP_CAPITA": "50247"
                                },
                                {
                                    "CITY": "Santana De Parnaíba",
                                    "GDP_CAPITA": "65645"
                                },
                                {
                                    "CITY": "Santo André",
                                    "GDP_CAPITA": "36250"
                                },
                                {
                                    "CITY": "Santos",
                                    "GDP_CAPITA": "50545"
                                },
                                {
                                    "CITY": "São Bernardo Do Campo",
                                    "GDP_CAPITA": "51240"
                                },
                                {
                                    "CITY": "São Caetano Do Sul",
                                    "GDP_CAPITA": "83656"
                                },
                                {
                                    "CITY": "São Carlos",
                                    "GDP_CAPITA": "41282"
                                },
                                {
                                    "CITY": "São José",
                                    "GDP_CAPITA": "41961"
                                },
                                {
                                    "CITY": "São José Dos Campos",
                                    "GDP_CAPITA": "53615"
                                },
                                {
                                    "CITY": "São Miguel Do Oeste",
                                    "GDP_CAPITA": "34386"
                                },
                                {
                                    "CITY": "São Paulo",
                                    "GDP_CAPITA": "57071"
                                },
                                {
                                    "CITY": "Valinhos",
                                    "GDP_CAPITA": "41712"
                                },
                                {
                                    "CITY": "Vinhedo",
                                    "GDP_CAPITA": "106027"
                                },
                                {
                                    "CITY": "Vitória",
                                    "GDP_CAPITA": "60428"
                                }
                            ]
                        },
                        "text/html": "<table><tr><th>CITY</th><th>GDP_CAPITA</th></tr><tr><td>Águas De São Pedro</td><td>41378</td></tr><tr><td>Americana</td><td>44417</td></tr><tr><td>Araraquara</td><td>39066</td></tr><tr><td>Assis</td><td>27922</td></tr><tr><td>Balneário Camboriú</td><td>37429</td></tr><tr><td>Bauru</td><td>35577</td></tr><tr><td>Belo Horizonte</td><td>35122</td></tr><tr><td>Blumenau</td><td>44791</td></tr><tr><td>Brasília</td><td>79100</td></tr><tr><td>Campinas</td><td>49877</td></tr><tr><td>Curitiba</td><td>44239</td></tr><tr><td>Florianópolis</td><td>39048</td></tr><tr><td>Ilha Solteira</td><td>21500</td></tr><tr><td>Jaraguá Do Sul</td><td>46430</td></tr><tr><td>Joaçaba</td><td>50765</td></tr><tr><td>Joinville</td><td>44269</td></tr><tr><td>Jundiaí</td><td>98050</td></tr><tr><td>Maringá</td><td>39996</td></tr><tr><td>Niterói</td><td>46202</td></tr><tr><td>Nova Lima</td><td>82145</td></tr><tr><td>Pirassununga</td><td>32979</td></tr><tr><td>Porto Alegre</td><td>49578</td></tr><tr><td>Presidente Prudente</td><td>33101</td></tr><tr><td>Rio Claro</td><td>43967</td></tr><tr><td>Rio Do Sul</td><td>33251</td></tr><tr><td>Rio Fortuna</td><td>50247</td></tr><tr><td>Santana De Parnaíba</td><td>65645</td></tr><tr><td>Santo André</td><td>36250</td></tr><tr><td>Santos</td><td>50545</td></tr><tr><td>São Bernardo Do Campo</td><td>51240</td></tr><tr><td>São Caetano Do Sul</td><td>83656</td></tr><tr><td>São Carlos</td><td>41282</td></tr><tr><td>São José</td><td>41961</td></tr><tr><td>São José Dos Campos</td><td>53615</td></tr><tr><td>São Miguel Do Oeste</td><td>34386</td></tr><tr><td>São Paulo</td><td>57071</td></tr><tr><td>Valinhos</td><td>41712</td></tr><tr><td>Vinhedo</td><td>106027</td></tr><tr><td>Vitória</td><td>60428</td></tr></table>"
                    },
                    "metadata": {
                        "azdata_chartOptions": {
                            "type": "bar",
                            "dataDirection": "vertical",
                            "columnsAsLabels": true,
                            "labelFirstColumn": false,
                            "legendPosition": "top"
                        }
                    }
                }
            ],
            "execution_count": 1
        },
        {
            "cell_type": "markdown",
            "source": [
                "## MÉDIA DE GDP PER CAPITA DAS CIDADES COM O IDHM ACIMA DE 0.80"
            ],
            "metadata": {
                "language": "sql",
                "azdata_cell_guid": "09fecfd6-13a5-4ea0-aedd-7f1d203c437f"
            },
            "attachments": {}
        },
        {
            "cell_type": "code",
            "source": [
                "SELECT AVG (CAST((GDP_CAPITA) AS int)) AS AVG_GDP_IDHM_MAX\r\n",
                "FROM [dbo].[Tabela_MVP_04]\r\n",
                "WHERE [IDHM] > 0.80"
            ],
            "metadata": {
                "language": "sql",
                "azdata_cell_guid": "ac929af1-d588-443b-9d3c-f88f7241a663",
                "tags": []
            },
            "outputs": [
                {
                    "output_type": "display_data",
                    "data": {
                        "text/html": "(1 row affected)"
                    },
                    "metadata": {}
                },
                {
                    "output_type": "display_data",
                    "data": {
                        "text/html": "Total execution time: 00:00:00.139"
                    },
                    "metadata": {}
                },
                {
                    "output_type": "execute_result",
                    "execution_count": 16,
                    "data": {
                        "application/vnd.dataresource+json": {
                            "schema": {
                                "fields": [
                                    {
                                        "name": "AVG_GDP_IDHM_MAX"
                                    }
                                ]
                            },
                            "data": [
                                {
                                    "AVG_GDP_IDHM_MAX": "47572"
                                }
                            ]
                        },
                        "text/html": "<table><tr><th>AVG_GDP_IDHM_MAX</th></tr><tr><td>47572</td></tr></table>"
                    },
                    "metadata": {}
                }
            ],
            "execution_count": 16
        },
        {
            "cell_type": "markdown",
            "source": [
                "## GRÁFICO DO GDP PER CAPITA DAS CIDADES COM O IDHM ABAIXO DE 0.51"
            ],
            "metadata": {
                "language": "sql",
                "azdata_cell_guid": "0f7a2d6e-d488-486c-95d6-c479103fca9b"
            },
            "attachments": {}
        },
        {
            "cell_type": "code",
            "source": [
                "select DISTINCT [CITY]\r\n",
                "      , [GDP_CAPITA]\r\n",
                "FROM [dbo].[Tabela_MVP_04]\r\n",
                "WHERE [IDHM] < 0.51"
            ],
            "metadata": {
                "language": "sql",
                "azdata_cell_guid": "6526bcf2-d640-475c-aae5-a8c0518ff2b4"
            },
            "outputs": [
                {
                    "output_type": "display_data",
                    "data": {
                        "text/html": "(74 rows affected)"
                    },
                    "metadata": {}
                },
                {
                    "output_type": "display_data",
                    "data": {
                        "text/html": "Total execution time: 00:00:00.141"
                    },
                    "metadata": {}
                },
                {
                    "output_type": "execute_result",
                    "execution_count": 17,
                    "data": {
                        "application/vnd.dataresource+json": {
                            "schema": {
                                "fields": [
                                    {
                                        "name": "CITY"
                                    },
                                    {
                                        "name": "GDP_CAPITA"
                                    }
                                ]
                            },
                            "data": [
                                {
                                    "CITY": "Acará",
                                    "GDP_CAPITA": "14579"
                                },
                                {
                                    "CITY": "Afuá",
                                    "GDP_CAPITA": "8364"
                                },
                                {
                                    "CITY": "Água Doce Do Maranhão",
                                    "GDP_CAPITA": "5929"
                                },
                                {
                                    "CITY": "Amajari",
                                    "GDP_CAPITA": "12332"
                                },
                                {
                                    "CITY": "Anajás",
                                    "GDP_CAPITA": "6755"
                                },
                                {
                                    "CITY": "Assunção Do Piauí",
                                    "GDP_CAPITA": "5688"
                                },
                                {
                                    "CITY": "Atalaia Do Norte",
                                    "GDP_CAPITA": "9085"
                                },
                                {
                                    "CITY": "Bagre",
                                    "GDP_CAPITA": "5775"
                                },
                                {
                                    "CITY": "Balneário Rincão",
                                    "GDP_CAPITA": "17789"
                                },
                                {
                                    "CITY": "Barcelos",
                                    "GDP_CAPITA": "5698"
                                },
                                {
                                    "CITY": "Beruri",
                                    "GDP_CAPITA": "6558"
                                },
                                {
                                    "CITY": "Betânia Do Piauí",
                                    "GDP_CAPITA": "7036"
                                },
                                {
                                    "CITY": "Breves",
                                    "GDP_CAPITA": "6921"
                                },
                                {
                                    "CITY": "Cachoeira Do Piriá",
                                    "GDP_CAPITA": "5338"
                                },
                                {
                                    "CITY": "Canapi",
                                    "GDP_CAPITA": "5647"
                                },
                                {
                                    "CITY": "Caraúbas Do Piauí",
                                    "GDP_CAPITA": "7040"
                                },
                                {
                                    "CITY": "Caxingó",
                                    "GDP_CAPITA": "7896"
                                },
                                {
                                    "CITY": "Chaves",
                                    "GDP_CAPITA": "7797"
                                },
                                {
                                    "CITY": "Cocal",
                                    "GDP_CAPITA": "7063"
                                },
                                {
                                    "CITY": "Cocal Dos Alves",
                                    "GDP_CAPITA": "6642"
                                },
                                {
                                    "CITY": "Curralinho",
                                    "GDP_CAPITA": "20019"
                                },
                                {
                                    "CITY": "Envira",
                                    "GDP_CAPITA": "7449"
                                },
                                {
                                    "CITY": "Fernando Falcão",
                                    "GDP_CAPITA": "5121"
                                },
                                {
                                    "CITY": "Guaribas",
                                    "GDP_CAPITA": "6784"
                                },
                                {
                                    "CITY": "Gurupá",
                                    "GDP_CAPITA": "6445"
                                },
                                {
                                    "CITY": "Inhapi",
                                    "GDP_CAPITA": "5548"
                                },
                                {
                                    "CITY": "Ipixuna",
                                    "GDP_CAPITA": "4534"
                                },
                                {
                                    "CITY": "Ipixuna Do Pará",
                                    "GDP_CAPITA": "7922"
                                },
                                {
                                    "CITY": "Itamarati",
                                    "GDP_CAPITA": "10320"
                                },
                                {
                                    "CITY": "Itapicuru",
                                    "GDP_CAPITA": "10221"
                                },
                                {
                                    "CITY": "Jacareacanga",
                                    "GDP_CAPITA": "26873"
                                },
                                {
                                    "CITY": "Jenipapo Dos Vieiras",
                                    "GDP_CAPITA": "5346"
                                },
                                {
                                    "CITY": "Joca Marques",
                                    "GDP_CAPITA": "6007"
                                },
                                {
                                    "CITY": "Jordão",
                                    "GDP_CAPITA": "9689"
                                },
                                {
                                    "CITY": "Jurema",
                                    "GDP_CAPITA": "6658"
                                },
                                {
                                    "CITY": "Lagoa Do Barro Do Piauí",
                                    "GDP_CAPITA": "6616"
                                },
                                {
                                    "CITY": "Lagoa Dos Patos",
                                    "GDP_CAPITA": "0"
                                },
                                {
                                    "CITY": "Lagoa Grande Do Maranhão",
                                    "GDP_CAPITA": "6103"
                                },
                                {
                                    "CITY": "Lagoa Mirim",
                                    "GDP_CAPITA": "0"
                                },
                                {
                                    "CITY": "Manari",
                                    "GDP_CAPITA": "5420"
                                },
                                {
                                    "CITY": "Maraã",
                                    "GDP_CAPITA": "7805"
                                },
                                {
                                    "CITY": "Marajá Do Sena",
                                    "GDP_CAPITA": "6602"
                                },
                                {
                                    "CITY": "Marechal Thaumaturgo",
                                    "GDP_CAPITA": "10084"
                                },
                                {
                                    "CITY": "Mata Grande",
                                    "GDP_CAPITA": "6599"
                                },
                                {
                                    "CITY": "Melgaço",
                                    "GDP_CAPITA": "6558"
                                },
                                {
                                    "CITY": "Milton Brandão",
                                    "GDP_CAPITA": "6066"
                                },
                                {
                                    "CITY": "Mojuí Dos Campos",
                                    "GDP_CAPITA": "8832"
                                },
                                {
                                    "CITY": "Monte Santo",
                                    "GDP_CAPITA": "5975"
                                },
                                {
                                    "CITY": "Nova Esperança Do Piriá",
                                    "GDP_CAPITA": "8741"
                                },
                                {
                                    "CITY": "Oeiras Do Pará",
                                    "GDP_CAPITA": "15623"
                                },
                                {
                                    "CITY": "Olho D'Água Grande",
                                    "GDP_CAPITA": "8874"
                                },
                                {
                                    "CITY": "Olivença",
                                    "GDP_CAPITA": "5586"
                                },
                                {
                                    "CITY": "Paquetá",
                                    "GDP_CAPITA": "6752"
                                },
                                {
                                    "CITY": "Paraíso Das Águas",
                                    "GDP_CAPITA": "92164"
                                },
                                {
                                    "CITY": "Pauini",
                                    "GDP_CAPITA": "7226"
                                },
                                {
                                    "CITY": "Pescaria Brava",
                                    "GDP_CAPITA": "8341"
                                },
                                {
                                    "CITY": "Pilão Arcado",
                                    "GDP_CAPITA": "5850"
                                },
                                {
                                    "CITY": "Pinto Bandeira",
                                    "GDP_CAPITA": "18184"
                                },
                                {
                                    "CITY": "Portel",
                                    "GDP_CAPITA": "11716"
                                },
                                {
                                    "CITY": "Porto De Moz",
                                    "GDP_CAPITA": "5800"
                                },
                                {
                                    "CITY": "Recursolândia",
                                    "GDP_CAPITA": "9975"
                                },
                                {
                                    "CITY": "Roteiro",
                                    "GDP_CAPITA": "15059"
                                },
                                {
                                    "CITY": "Santa Isabel Do Rio Negro",
                                    "GDP_CAPITA": "5558"
                                },
                                {
                                    "CITY": "Santa Terezinha",
                                    "GDP_CAPITA": "6796"
                                },
                                {
                                    "CITY": "Santo Antônio Do Içá",
                                    "GDP_CAPITA": "6888"
                                },
                                {
                                    "CITY": "São Caetano",
                                    "GDP_CAPITA": "0"
                                },
                                {
                                    "CITY": "São Francisco De Assis Do Piauí",
                                    "GDP_CAPITA": "6598"
                                },
                                {
                                    "CITY": "São João Do Carú",
                                    "GDP_CAPITA": "5780"
                                },
                                {
                                    "CITY": "São Vicente Do Seridó",
                                    "GDP_CAPITA": "5739"
                                },
                                {
                                    "CITY": "Satubinha",
                                    "GDP_CAPITA": "4767"
                                },
                                {
                                    "CITY": "Tamboril Do Piauí",
                                    "GDP_CAPITA": "7143"
                                },
                                {
                                    "CITY": "Tapauá",
                                    "GDP_CAPITA": "12019"
                                },
                                {
                                    "CITY": "Uiramutã",
                                    "GDP_CAPITA": "10729"
                                },
                                {
                                    "CITY": "Vera Mendes",
                                    "GDP_CAPITA": "7178"
                                }
                            ]
                        },
                        "text/html": "<table><tr><th>CITY</th><th>GDP_CAPITA</th></tr><tr><td>Acará</td><td>14579</td></tr><tr><td>Afuá</td><td>8364</td></tr><tr><td>Água Doce Do Maranhão</td><td>5929</td></tr><tr><td>Amajari</td><td>12332</td></tr><tr><td>Anajás</td><td>6755</td></tr><tr><td>Assunção Do Piauí</td><td>5688</td></tr><tr><td>Atalaia Do Norte</td><td>9085</td></tr><tr><td>Bagre</td><td>5775</td></tr><tr><td>Balneário Rincão</td><td>17789</td></tr><tr><td>Barcelos</td><td>5698</td></tr><tr><td>Beruri</td><td>6558</td></tr><tr><td>Betânia Do Piauí</td><td>7036</td></tr><tr><td>Breves</td><td>6921</td></tr><tr><td>Cachoeira Do Piriá</td><td>5338</td></tr><tr><td>Canapi</td><td>5647</td></tr><tr><td>Caraúbas Do Piauí</td><td>7040</td></tr><tr><td>Caxingó</td><td>7896</td></tr><tr><td>Chaves</td><td>7797</td></tr><tr><td>Cocal</td><td>7063</td></tr><tr><td>Cocal Dos Alves</td><td>6642</td></tr><tr><td>Curralinho</td><td>20019</td></tr><tr><td>Envira</td><td>7449</td></tr><tr><td>Fernando Falcão</td><td>5121</td></tr><tr><td>Guaribas</td><td>6784</td></tr><tr><td>Gurupá</td><td>6445</td></tr><tr><td>Inhapi</td><td>5548</td></tr><tr><td>Ipixuna</td><td>4534</td></tr><tr><td>Ipixuna Do Pará</td><td>7922</td></tr><tr><td>Itamarati</td><td>10320</td></tr><tr><td>Itapicuru</td><td>10221</td></tr><tr><td>Jacareacanga</td><td>26873</td></tr><tr><td>Jenipapo Dos Vieiras</td><td>5346</td></tr><tr><td>Joca Marques</td><td>6007</td></tr><tr><td>Jordão</td><td>9689</td></tr><tr><td>Jurema</td><td>6658</td></tr><tr><td>Lagoa Do Barro Do Piauí</td><td>6616</td></tr><tr><td>Lagoa Dos Patos</td><td>0</td></tr><tr><td>Lagoa Grande Do Maranhão</td><td>6103</td></tr><tr><td>Lagoa Mirim</td><td>0</td></tr><tr><td>Manari</td><td>5420</td></tr><tr><td>Maraã</td><td>7805</td></tr><tr><td>Marajá Do Sena</td><td>6602</td></tr><tr><td>Marechal Thaumaturgo</td><td>10084</td></tr><tr><td>Mata Grande</td><td>6599</td></tr><tr><td>Melgaço</td><td>6558</td></tr><tr><td>Milton Brandão</td><td>6066</td></tr><tr><td>Mojuí Dos Campos</td><td>8832</td></tr><tr><td>Monte Santo</td><td>5975</td></tr><tr><td>Nova Esperança Do Piriá</td><td>8741</td></tr><tr><td>Oeiras Do Pará</td><td>15623</td></tr><tr><td>Olho D&#39;Água Grande</td><td>8874</td></tr><tr><td>Olivença</td><td>5586</td></tr><tr><td>Paquetá</td><td>6752</td></tr><tr><td>Paraíso Das Águas</td><td>92164</td></tr><tr><td>Pauini</td><td>7226</td></tr><tr><td>Pescaria Brava</td><td>8341</td></tr><tr><td>Pilão Arcado</td><td>5850</td></tr><tr><td>Pinto Bandeira</td><td>18184</td></tr><tr><td>Portel</td><td>11716</td></tr><tr><td>Porto De Moz</td><td>5800</td></tr><tr><td>Recursolândia</td><td>9975</td></tr><tr><td>Roteiro</td><td>15059</td></tr><tr><td>Santa Isabel Do Rio Negro</td><td>5558</td></tr><tr><td>Santa Terezinha</td><td>6796</td></tr><tr><td>Santo Antônio Do Içá</td><td>6888</td></tr><tr><td>São Caetano</td><td>0</td></tr><tr><td>São Francisco De Assis Do Piauí</td><td>6598</td></tr><tr><td>São João Do Carú</td><td>5780</td></tr><tr><td>São Vicente Do Seridó</td><td>5739</td></tr><tr><td>Satubinha</td><td>4767</td></tr><tr><td>Tamboril Do Piauí</td><td>7143</td></tr><tr><td>Tapauá</td><td>12019</td></tr><tr><td>Uiramutã</td><td>10729</td></tr><tr><td>Vera Mendes</td><td>7178</td></tr></table>"
                    },
                    "metadata": {
                        "azdata_chartOptions": {
                            "type": "bar",
                            "dataDirection": "vertical",
                            "columnsAsLabels": true,
                            "labelFirstColumn": false,
                            "legendPosition": "top"
                        }
                    }
                }
            ],
            "execution_count": 17
        },
        {
            "cell_type": "markdown",
            "source": [
                "## MÉDIA DE GDP PER CAPITA DAS CIDADES COM O IDHM \\< 0.51"
            ],
            "metadata": {
                "language": "sql",
                "azdata_cell_guid": "a17f374e-f3b9-4ed1-b2f9-6a216354459f"
            },
            "attachments": {}
        },
        {
            "cell_type": "code",
            "source": [
                "SELECT AVG (CAST((GDP_CAPITA) AS int)) AS AVG_GDP_IDHM_MAX\r\n",
                "FROM [dbo].[Tabela_MVP_04]\r\n",
                "WHERE [IDHM] < 0.51"
            ],
            "metadata": {
                "language": "sql",
                "azdata_cell_guid": "b8e51ad5-e7e0-4d35-ac6e-6198d1fbac5c"
            },
            "outputs": [
                {
                    "output_type": "display_data",
                    "data": {
                        "text/html": "(1 row affected)"
                    },
                    "metadata": {}
                },
                {
                    "output_type": "display_data",
                    "data": {
                        "text/html": "Total execution time: 00:00:00.134"
                    },
                    "metadata": {}
                },
                {
                    "output_type": "execute_result",
                    "execution_count": 18,
                    "data": {
                        "application/vnd.dataresource+json": {
                            "schema": {
                                "fields": [
                                    {
                                        "name": "AVG_GDP_IDHM_MAX"
                                    }
                                ]
                            },
                            "data": [
                                {
                                    "AVG_GDP_IDHM_MAX": "9116"
                                }
                            ]
                        },
                        "text/html": "<table><tr><th>AVG_GDP_IDHM_MAX</th></tr><tr><td>9116</td></tr></table>"
                    },
                    "metadata": {}
                }
            ],
            "execution_count": 18
        }
    ]
}